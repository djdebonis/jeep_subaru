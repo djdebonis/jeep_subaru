{
 "cells": [
  {
   "cell_type": "code",
   "execution_count": 2,
   "metadata": {},
   "outputs": [],
   "source": [
    "# imports modules required for reading & analyzing data\n",
    "import pandas as pd\n",
    "import numpy as np\n",
    "import matplotlib\n",
    "from matplotlib import pyplot as plt\n",
    "%matplotlib inline"
   ]
  },
  {
   "cell_type": "code",
   "execution_count": 41,
   "metadata": {},
   "outputs": [],
   "source": [
    "# assigns umbrella parameters to create larger, higher-quality plots\n",
    "plt.rcParams['figure.figsize'] = 15,7.5\n",
    "plt.rcParams['font.size'] = 20"
   ]
  },
  {
   "cell_type": "code",
   "execution_count": 18,
   "metadata": {},
   "outputs": [],
   "source": [
    "# creates 'quick code' function to read the .csv file \n",
    "car_data = pd.read_csv('jeep_vs_subaru.csv', delimiter=',', nrows=30)"
   ]
  },
  {
   "cell_type": "code",
   "execution_count": 19,
   "metadata": {},
   "outputs": [],
   "source": [
    "def drop_unnamed(dataframe):\n",
    "    r\"\"\"\n",
    "    Data pre-processing for my own dataset.\n",
    "    \"\"\"\n",
    "    # go through all columns and drop if \"unnamed\" is part of label.\n",
    "    for num in range(len(dataframe.columns)):\n",
    "        try:\n",
    "            dataframe = dataframe.drop(columns='Unnamed: %i'%(num))\n",
    "        except:\n",
    "            pass        \n",
    "    return dataframe"
   ]
  },
  {
   "cell_type": "code",
   "execution_count": 5,
   "metadata": {},
   "outputs": [
    {
     "data": {
      "text/plain": [
       "Index(['state', 'carmax_location', 'zip_code', 'jeep_odometer_miles',\n",
       "       'jeep_asking_price', 'subaru_odometer_miles', 'subaru_asking_price'],\n",
       "      dtype='object')"
      ]
     },
     "execution_count": 5,
     "metadata": {},
     "output_type": "execute_result"
    }
   ],
   "source": [
    "car_data = drop_unnamed(car_data)\n",
    "car_data.columns"
   ]
  },
  {
   "cell_type": "code",
   "execution_count": 6,
   "metadata": {},
   "outputs": [
    {
     "data": {
      "text/html": [
       "<div>\n",
       "<style scoped>\n",
       "    .dataframe tbody tr th:only-of-type {\n",
       "        vertical-align: middle;\n",
       "    }\n",
       "\n",
       "    .dataframe tbody tr th {\n",
       "        vertical-align: top;\n",
       "    }\n",
       "\n",
       "    .dataframe thead th {\n",
       "        text-align: right;\n",
       "    }\n",
       "</style>\n",
       "<table border=\"1\" class=\"dataframe\">\n",
       "  <thead>\n",
       "    <tr style=\"text-align: right;\">\n",
       "      <th></th>\n",
       "      <th>state</th>\n",
       "      <th>carmax_location</th>\n",
       "      <th>zip_code</th>\n",
       "      <th>jeep_odometer_miles</th>\n",
       "      <th>jeep_asking_price</th>\n",
       "      <th>subaru_odometer_miles</th>\n",
       "      <th>subaru_asking_price</th>\n",
       "    </tr>\n",
       "  </thead>\n",
       "  <tbody>\n",
       "    <tr>\n",
       "      <th>0</th>\n",
       "      <td>oregon</td>\n",
       "      <td>beaverton</td>\n",
       "      <td>97008</td>\n",
       "      <td>113373</td>\n",
       "      <td>8999</td>\n",
       "      <td>111144</td>\n",
       "      <td>9900</td>\n",
       "    </tr>\n",
       "    <tr>\n",
       "      <th>1</th>\n",
       "      <td>maine</td>\n",
       "      <td>south_portland</td>\n",
       "      <td>4106</td>\n",
       "      <td>107775</td>\n",
       "      <td>6997</td>\n",
       "      <td>105189</td>\n",
       "      <td>9995</td>\n",
       "    </tr>\n",
       "    <tr>\n",
       "      <th>2</th>\n",
       "      <td>colorado</td>\n",
       "      <td>colorado_springs</td>\n",
       "      <td>80922</td>\n",
       "      <td>151195</td>\n",
       "      <td>7195</td>\n",
       "      <td>84990</td>\n",
       "      <td>11719</td>\n",
       "    </tr>\n",
       "    <tr>\n",
       "      <th>3</th>\n",
       "      <td>minnesota</td>\n",
       "      <td>maplewood</td>\n",
       "      <td>55109</td>\n",
       "      <td>117198</td>\n",
       "      <td>7999</td>\n",
       "      <td>97775</td>\n",
       "      <td>10979</td>\n",
       "    </tr>\n",
       "    <tr>\n",
       "      <th>4</th>\n",
       "      <td>north_carolina</td>\n",
       "      <td>gastonia</td>\n",
       "      <td>28054</td>\n",
       "      <td>101658</td>\n",
       "      <td>8135</td>\n",
       "      <td>99079</td>\n",
       "      <td>9780</td>\n",
       "    </tr>\n",
       "    <tr>\n",
       "      <th>5</th>\n",
       "      <td>ohio</td>\n",
       "      <td>dayton</td>\n",
       "      <td>45449</td>\n",
       "      <td>81057</td>\n",
       "      <td>8495</td>\n",
       "      <td>108126</td>\n",
       "      <td>13998</td>\n",
       "    </tr>\n",
       "    <tr>\n",
       "      <th>6</th>\n",
       "      <td>nevada</td>\n",
       "      <td>west_sahara</td>\n",
       "      <td>89146</td>\n",
       "      <td>98135</td>\n",
       "      <td>8995</td>\n",
       "      <td>140099</td>\n",
       "      <td>6995</td>\n",
       "    </tr>\n",
       "    <tr>\n",
       "      <th>7</th>\n",
       "      <td>new_york</td>\n",
       "      <td>albany</td>\n",
       "      <td>12205</td>\n",
       "      <td>106647</td>\n",
       "      <td>10995</td>\n",
       "      <td>95641</td>\n",
       "      <td>10995</td>\n",
       "    </tr>\n",
       "    <tr>\n",
       "      <th>8</th>\n",
       "      <td>washington</td>\n",
       "      <td>puyallup</td>\n",
       "      <td>98371</td>\n",
       "      <td>86345</td>\n",
       "      <td>8988</td>\n",
       "      <td>104023</td>\n",
       "      <td>9995</td>\n",
       "    </tr>\n",
       "    <tr>\n",
       "      <th>9</th>\n",
       "      <td>georgia</td>\n",
       "      <td>buford</td>\n",
       "      <td>30519</td>\n",
       "      <td>102879</td>\n",
       "      <td>6998</td>\n",
       "      <td>117871</td>\n",
       "      <td>7761</td>\n",
       "    </tr>\n",
       "    <tr>\n",
       "      <th>10</th>\n",
       "      <td>south_carolina</td>\n",
       "      <td>myrtle_beach</td>\n",
       "      <td>29579</td>\n",
       "      <td>114006</td>\n",
       "      <td>7400</td>\n",
       "      <td>161411</td>\n",
       "      <td>7500</td>\n",
       "    </tr>\n",
       "    <tr>\n",
       "      <th>11</th>\n",
       "      <td>indiana</td>\n",
       "      <td>merrillville</td>\n",
       "      <td>46410</td>\n",
       "      <td>87606</td>\n",
       "      <td>8999</td>\n",
       "      <td>111552</td>\n",
       "      <td>8777</td>\n",
       "    </tr>\n",
       "    <tr>\n",
       "      <th>12</th>\n",
       "      <td>kentucky</td>\n",
       "      <td>lexington</td>\n",
       "      <td>40515</td>\n",
       "      <td>114636</td>\n",
       "      <td>6900</td>\n",
       "      <td>134907</td>\n",
       "      <td>8999</td>\n",
       "    </tr>\n",
       "    <tr>\n",
       "      <th>13</th>\n",
       "      <td>new_hampshire</td>\n",
       "      <td>manchester</td>\n",
       "      <td>3103</td>\n",
       "      <td>114221</td>\n",
       "      <td>6900</td>\n",
       "      <td>119691</td>\n",
       "      <td>7498</td>\n",
       "    </tr>\n",
       "    <tr>\n",
       "      <th>14</th>\n",
       "      <td>utah</td>\n",
       "      <td>salt_lake</td>\n",
       "      <td>84095</td>\n",
       "      <td>113094</td>\n",
       "      <td>7995</td>\n",
       "      <td>81449</td>\n",
       "      <td>8500</td>\n",
       "    </tr>\n",
       "    <tr>\n",
       "      <th>15</th>\n",
       "      <td>illinois</td>\n",
       "      <td>o_fallon</td>\n",
       "      <td>62269</td>\n",
       "      <td>123001</td>\n",
       "      <td>8705</td>\n",
       "      <td>116569</td>\n",
       "      <td>9588</td>\n",
       "    </tr>\n",
       "    <tr>\n",
       "      <th>16</th>\n",
       "      <td>conneticut</td>\n",
       "      <td>harford</td>\n",
       "      <td>6120</td>\n",
       "      <td>100432</td>\n",
       "      <td>7295</td>\n",
       "      <td>85482</td>\n",
       "      <td>8500</td>\n",
       "    </tr>\n",
       "    <tr>\n",
       "      <th>17</th>\n",
       "      <td>oklahoma</td>\n",
       "      <td>oklahoma_city</td>\n",
       "      <td>73131</td>\n",
       "      <td>117194</td>\n",
       "      <td>5998</td>\n",
       "      <td>167076</td>\n",
       "      <td>7988</td>\n",
       "    </tr>\n",
       "    <tr>\n",
       "      <th>18</th>\n",
       "      <td>mississippi</td>\n",
       "      <td>jackson</td>\n",
       "      <td>39206</td>\n",
       "      <td>113549</td>\n",
       "      <td>8990</td>\n",
       "      <td>126556</td>\n",
       "      <td>6500</td>\n",
       "    </tr>\n",
       "    <tr>\n",
       "      <th>19</th>\n",
       "      <td>iowa</td>\n",
       "      <td>des_moines</td>\n",
       "      <td>50322</td>\n",
       "      <td>76785</td>\n",
       "      <td>9950</td>\n",
       "      <td>94230</td>\n",
       "      <td>9999</td>\n",
       "    </tr>\n",
       "    <tr>\n",
       "      <th>20</th>\n",
       "      <td>nebraska</td>\n",
       "      <td>omaha</td>\n",
       "      <td>68118</td>\n",
       "      <td>87804</td>\n",
       "      <td>9200</td>\n",
       "      <td>129964</td>\n",
       "      <td>9094</td>\n",
       "    </tr>\n",
       "    <tr>\n",
       "      <th>21</th>\n",
       "      <td>california</td>\n",
       "      <td>irvine</td>\n",
       "      <td>92618</td>\n",
       "      <td>99462</td>\n",
       "      <td>8995</td>\n",
       "      <td>95000</td>\n",
       "      <td>10500</td>\n",
       "    </tr>\n",
       "    <tr>\n",
       "      <th>22</th>\n",
       "      <td>missouri</td>\n",
       "      <td>st_louis_south</td>\n",
       "      <td>63123</td>\n",
       "      <td>123001</td>\n",
       "      <td>8705</td>\n",
       "      <td>116569</td>\n",
       "      <td>9588</td>\n",
       "    </tr>\n",
       "    <tr>\n",
       "      <th>23</th>\n",
       "      <td>massachussetes</td>\n",
       "      <td>westborough</td>\n",
       "      <td>1518</td>\n",
       "      <td>114221</td>\n",
       "      <td>6900</td>\n",
       "      <td>106411</td>\n",
       "      <td>7975</td>\n",
       "    </tr>\n",
       "    <tr>\n",
       "      <th>24</th>\n",
       "      <td>idaho</td>\n",
       "      <td>boise</td>\n",
       "      <td>83642</td>\n",
       "      <td>92790</td>\n",
       "      <td>8945</td>\n",
       "      <td>97794</td>\n",
       "      <td>9419</td>\n",
       "    </tr>\n",
       "    <tr>\n",
       "      <th>25</th>\n",
       "      <td>alabama</td>\n",
       "      <td>mobile</td>\n",
       "      <td>36606</td>\n",
       "      <td>92438</td>\n",
       "      <td>8995</td>\n",
       "      <td>93400</td>\n",
       "      <td>8895</td>\n",
       "    </tr>\n",
       "    <tr>\n",
       "      <th>26</th>\n",
       "      <td>new_mexico</td>\n",
       "      <td>albuquerque</td>\n",
       "      <td>87113</td>\n",
       "      <td>119453</td>\n",
       "      <td>7990</td>\n",
       "      <td>68916</td>\n",
       "      <td>11391</td>\n",
       "    </tr>\n",
       "    <tr>\n",
       "      <th>27</th>\n",
       "      <td>tennesse</td>\n",
       "      <td>nashville</td>\n",
       "      <td>37204</td>\n",
       "      <td>99690</td>\n",
       "      <td>6487</td>\n",
       "      <td>131400</td>\n",
       "      <td>7995</td>\n",
       "    </tr>\n",
       "    <tr>\n",
       "      <th>28</th>\n",
       "      <td>virginia</td>\n",
       "      <td>harrisonburg</td>\n",
       "      <td>22801</td>\n",
       "      <td>83672</td>\n",
       "      <td>7937</td>\n",
       "      <td>93867</td>\n",
       "      <td>11624</td>\n",
       "    </tr>\n",
       "    <tr>\n",
       "      <th>29</th>\n",
       "      <td>new_jersey</td>\n",
       "      <td>maple_shade</td>\n",
       "      <td>8502</td>\n",
       "      <td>85492</td>\n",
       "      <td>7995</td>\n",
       "      <td>81900</td>\n",
       "      <td>8999</td>\n",
       "    </tr>\n",
       "  </tbody>\n",
       "</table>\n",
       "</div>"
      ],
      "text/plain": [
       "             state   carmax_location  zip_code  jeep_odometer_miles  \\\n",
       "0           oregon         beaverton     97008               113373   \n",
       "1            maine    south_portland      4106               107775   \n",
       "2         colorado  colorado_springs     80922               151195   \n",
       "3        minnesota         maplewood     55109               117198   \n",
       "4   north_carolina          gastonia     28054               101658   \n",
       "5             ohio            dayton     45449                81057   \n",
       "6           nevada       west_sahara     89146                98135   \n",
       "7         new_york            albany     12205               106647   \n",
       "8       washington          puyallup     98371                86345   \n",
       "9          georgia            buford     30519               102879   \n",
       "10  south_carolina      myrtle_beach     29579               114006   \n",
       "11         indiana      merrillville     46410                87606   \n",
       "12        kentucky         lexington     40515               114636   \n",
       "13   new_hampshire        manchester      3103               114221   \n",
       "14            utah         salt_lake     84095               113094   \n",
       "15        illinois          o_fallon     62269               123001   \n",
       "16      conneticut           harford      6120               100432   \n",
       "17        oklahoma     oklahoma_city     73131               117194   \n",
       "18     mississippi           jackson     39206               113549   \n",
       "19            iowa        des_moines     50322                76785   \n",
       "20        nebraska             omaha     68118                87804   \n",
       "21      california            irvine     92618                99462   \n",
       "22        missouri    st_louis_south     63123               123001   \n",
       "23  massachussetes       westborough      1518               114221   \n",
       "24           idaho             boise     83642                92790   \n",
       "25         alabama            mobile     36606                92438   \n",
       "26      new_mexico       albuquerque     87113               119453   \n",
       "27        tennesse         nashville     37204                99690   \n",
       "28        virginia      harrisonburg     22801                83672   \n",
       "29      new_jersey       maple_shade      8502                85492   \n",
       "\n",
       "    jeep_asking_price  subaru_odometer_miles  subaru_asking_price  \n",
       "0                8999                 111144                 9900  \n",
       "1                6997                 105189                 9995  \n",
       "2                7195                  84990                11719  \n",
       "3                7999                  97775                10979  \n",
       "4                8135                  99079                 9780  \n",
       "5                8495                 108126                13998  \n",
       "6                8995                 140099                 6995  \n",
       "7               10995                  95641                10995  \n",
       "8                8988                 104023                 9995  \n",
       "9                6998                 117871                 7761  \n",
       "10               7400                 161411                 7500  \n",
       "11               8999                 111552                 8777  \n",
       "12               6900                 134907                 8999  \n",
       "13               6900                 119691                 7498  \n",
       "14               7995                  81449                 8500  \n",
       "15               8705                 116569                 9588  \n",
       "16               7295                  85482                 8500  \n",
       "17               5998                 167076                 7988  \n",
       "18               8990                 126556                 6500  \n",
       "19               9950                  94230                 9999  \n",
       "20               9200                 129964                 9094  \n",
       "21               8995                  95000                10500  \n",
       "22               8705                 116569                 9588  \n",
       "23               6900                 106411                 7975  \n",
       "24               8945                  97794                 9419  \n",
       "25               8995                  93400                 8895  \n",
       "26               7990                  68916                11391  \n",
       "27               6487                 131400                 7995  \n",
       "28               7937                  93867                11624  \n",
       "29               7995                  81900                 8999  "
      ]
     },
     "execution_count": 6,
     "metadata": {},
     "output_type": "execute_result"
    }
   ],
   "source": [
    "# reads first five rows\n",
    "car_data"
   ]
  },
  {
   "cell_type": "code",
   "execution_count": 7,
   "metadata": {},
   "outputs": [
    {
     "data": {
      "text/html": [
       "<div>\n",
       "<style scoped>\n",
       "    .dataframe tbody tr th:only-of-type {\n",
       "        vertical-align: middle;\n",
       "    }\n",
       "\n",
       "    .dataframe tbody tr th {\n",
       "        vertical-align: top;\n",
       "    }\n",
       "\n",
       "    .dataframe thead th {\n",
       "        text-align: right;\n",
       "    }\n",
       "</style>\n",
       "<table border=\"1\" class=\"dataframe\">\n",
       "  <thead>\n",
       "    <tr style=\"text-align: right;\">\n",
       "      <th></th>\n",
       "      <th>state</th>\n",
       "      <th>jeep_odometer_miles</th>\n",
       "      <th>jeep_asking_price</th>\n",
       "    </tr>\n",
       "  </thead>\n",
       "  <tbody>\n",
       "    <tr>\n",
       "      <th>0</th>\n",
       "      <td>oregon</td>\n",
       "      <td>113373</td>\n",
       "      <td>8999</td>\n",
       "    </tr>\n",
       "    <tr>\n",
       "      <th>1</th>\n",
       "      <td>maine</td>\n",
       "      <td>107775</td>\n",
       "      <td>6997</td>\n",
       "    </tr>\n",
       "    <tr>\n",
       "      <th>2</th>\n",
       "      <td>colorado</td>\n",
       "      <td>151195</td>\n",
       "      <td>7195</td>\n",
       "    </tr>\n",
       "    <tr>\n",
       "      <th>3</th>\n",
       "      <td>minnesota</td>\n",
       "      <td>117198</td>\n",
       "      <td>7999</td>\n",
       "    </tr>\n",
       "    <tr>\n",
       "      <th>4</th>\n",
       "      <td>north_carolina</td>\n",
       "      <td>101658</td>\n",
       "      <td>8135</td>\n",
       "    </tr>\n",
       "    <tr>\n",
       "      <th>5</th>\n",
       "      <td>ohio</td>\n",
       "      <td>81057</td>\n",
       "      <td>8495</td>\n",
       "    </tr>\n",
       "    <tr>\n",
       "      <th>6</th>\n",
       "      <td>nevada</td>\n",
       "      <td>98135</td>\n",
       "      <td>8995</td>\n",
       "    </tr>\n",
       "    <tr>\n",
       "      <th>7</th>\n",
       "      <td>new_york</td>\n",
       "      <td>106647</td>\n",
       "      <td>10995</td>\n",
       "    </tr>\n",
       "    <tr>\n",
       "      <th>8</th>\n",
       "      <td>washington</td>\n",
       "      <td>86345</td>\n",
       "      <td>8988</td>\n",
       "    </tr>\n",
       "    <tr>\n",
       "      <th>9</th>\n",
       "      <td>georgia</td>\n",
       "      <td>102879</td>\n",
       "      <td>6998</td>\n",
       "    </tr>\n",
       "    <tr>\n",
       "      <th>10</th>\n",
       "      <td>south_carolina</td>\n",
       "      <td>114006</td>\n",
       "      <td>7400</td>\n",
       "    </tr>\n",
       "    <tr>\n",
       "      <th>11</th>\n",
       "      <td>indiana</td>\n",
       "      <td>87606</td>\n",
       "      <td>8999</td>\n",
       "    </tr>\n",
       "    <tr>\n",
       "      <th>12</th>\n",
       "      <td>kentucky</td>\n",
       "      <td>114636</td>\n",
       "      <td>6900</td>\n",
       "    </tr>\n",
       "    <tr>\n",
       "      <th>13</th>\n",
       "      <td>new_hampshire</td>\n",
       "      <td>114221</td>\n",
       "      <td>6900</td>\n",
       "    </tr>\n",
       "    <tr>\n",
       "      <th>14</th>\n",
       "      <td>utah</td>\n",
       "      <td>113094</td>\n",
       "      <td>7995</td>\n",
       "    </tr>\n",
       "    <tr>\n",
       "      <th>15</th>\n",
       "      <td>illinois</td>\n",
       "      <td>123001</td>\n",
       "      <td>8705</td>\n",
       "    </tr>\n",
       "    <tr>\n",
       "      <th>16</th>\n",
       "      <td>conneticut</td>\n",
       "      <td>100432</td>\n",
       "      <td>7295</td>\n",
       "    </tr>\n",
       "    <tr>\n",
       "      <th>17</th>\n",
       "      <td>oklahoma</td>\n",
       "      <td>117194</td>\n",
       "      <td>5998</td>\n",
       "    </tr>\n",
       "    <tr>\n",
       "      <th>18</th>\n",
       "      <td>mississippi</td>\n",
       "      <td>113549</td>\n",
       "      <td>8990</td>\n",
       "    </tr>\n",
       "    <tr>\n",
       "      <th>19</th>\n",
       "      <td>iowa</td>\n",
       "      <td>76785</td>\n",
       "      <td>9950</td>\n",
       "    </tr>\n",
       "    <tr>\n",
       "      <th>20</th>\n",
       "      <td>nebraska</td>\n",
       "      <td>87804</td>\n",
       "      <td>9200</td>\n",
       "    </tr>\n",
       "    <tr>\n",
       "      <th>21</th>\n",
       "      <td>california</td>\n",
       "      <td>99462</td>\n",
       "      <td>8995</td>\n",
       "    </tr>\n",
       "    <tr>\n",
       "      <th>22</th>\n",
       "      <td>missouri</td>\n",
       "      <td>123001</td>\n",
       "      <td>8705</td>\n",
       "    </tr>\n",
       "    <tr>\n",
       "      <th>23</th>\n",
       "      <td>massachussetes</td>\n",
       "      <td>114221</td>\n",
       "      <td>6900</td>\n",
       "    </tr>\n",
       "    <tr>\n",
       "      <th>24</th>\n",
       "      <td>idaho</td>\n",
       "      <td>92790</td>\n",
       "      <td>8945</td>\n",
       "    </tr>\n",
       "    <tr>\n",
       "      <th>25</th>\n",
       "      <td>alabama</td>\n",
       "      <td>92438</td>\n",
       "      <td>8995</td>\n",
       "    </tr>\n",
       "    <tr>\n",
       "      <th>26</th>\n",
       "      <td>new_mexico</td>\n",
       "      <td>119453</td>\n",
       "      <td>7990</td>\n",
       "    </tr>\n",
       "    <tr>\n",
       "      <th>27</th>\n",
       "      <td>tennesse</td>\n",
       "      <td>99690</td>\n",
       "      <td>6487</td>\n",
       "    </tr>\n",
       "    <tr>\n",
       "      <th>28</th>\n",
       "      <td>virginia</td>\n",
       "      <td>83672</td>\n",
       "      <td>7937</td>\n",
       "    </tr>\n",
       "    <tr>\n",
       "      <th>29</th>\n",
       "      <td>new_jersey</td>\n",
       "      <td>85492</td>\n",
       "      <td>7995</td>\n",
       "    </tr>\n",
       "  </tbody>\n",
       "</table>\n",
       "</div>"
      ],
      "text/plain": [
       "             state  jeep_odometer_miles  jeep_asking_price\n",
       "0           oregon               113373               8999\n",
       "1            maine               107775               6997\n",
       "2         colorado               151195               7195\n",
       "3        minnesota               117198               7999\n",
       "4   north_carolina               101658               8135\n",
       "5             ohio                81057               8495\n",
       "6           nevada                98135               8995\n",
       "7         new_york               106647              10995\n",
       "8       washington                86345               8988\n",
       "9          georgia               102879               6998\n",
       "10  south_carolina               114006               7400\n",
       "11         indiana                87606               8999\n",
       "12        kentucky               114636               6900\n",
       "13   new_hampshire               114221               6900\n",
       "14            utah               113094               7995\n",
       "15        illinois               123001               8705\n",
       "16      conneticut               100432               7295\n",
       "17        oklahoma               117194               5998\n",
       "18     mississippi               113549               8990\n",
       "19            iowa                76785               9950\n",
       "20        nebraska                87804               9200\n",
       "21      california                99462               8995\n",
       "22        missouri               123001               8705\n",
       "23  massachussetes               114221               6900\n",
       "24           idaho                92790               8945\n",
       "25         alabama                92438               8995\n",
       "26      new_mexico               119453               7990\n",
       "27        tennesse                99690               6487\n",
       "28        virginia                83672               7937\n",
       "29      new_jersey                85492               7995"
      ]
     },
     "execution_count": 7,
     "metadata": {},
     "output_type": "execute_result"
    }
   ],
   "source": [
    "# reads only the columns defined within brackets\n",
    "car_data[['state', 'jeep_odometer_miles', 'jeep_asking_price']]"
   ]
  },
  {
   "cell_type": "code",
   "execution_count": 8,
   "metadata": {},
   "outputs": [
    {
     "data": {
      "text/plain": [
       "0     113373\n",
       "1     107775\n",
       "2     151195\n",
       "3     117198\n",
       "4     101658\n",
       "5      81057\n",
       "6      98135\n",
       "7     106647\n",
       "8      86345\n",
       "9     102879\n",
       "10    114006\n",
       "11     87606\n",
       "12    114636\n",
       "13    114221\n",
       "14    113094\n",
       "15    123001\n",
       "16    100432\n",
       "17    117194\n",
       "18    113549\n",
       "19     76785\n",
       "20     87804\n",
       "21     99462\n",
       "22    123001\n",
       "23    114221\n",
       "24     92790\n",
       "25     92438\n",
       "26    119453\n",
       "27     99690\n",
       "28     83672\n",
       "29     85492\n",
       "Name: jeep_odometer_miles, dtype: int64"
      ]
     },
     "execution_count": 8,
     "metadata": {},
     "output_type": "execute_result"
    }
   ],
   "source": [
    "# Prints series of objects instead of entire Data Frame\n",
    "car_data.jeep_odometer_miles"
   ]
  },
  {
   "cell_type": "code",
   "execution_count": 9,
   "metadata": {},
   "outputs": [
    {
     "data": {
      "text/html": [
       "<div>\n",
       "<style scoped>\n",
       "    .dataframe tbody tr th:only-of-type {\n",
       "        vertical-align: middle;\n",
       "    }\n",
       "\n",
       "    .dataframe tbody tr th {\n",
       "        vertical-align: top;\n",
       "    }\n",
       "\n",
       "    .dataframe thead th {\n",
       "        text-align: right;\n",
       "    }\n",
       "</style>\n",
       "<table border=\"1\" class=\"dataframe\">\n",
       "  <thead>\n",
       "    <tr style=\"text-align: right;\">\n",
       "      <th></th>\n",
       "      <th>state</th>\n",
       "      <th>carmax_location</th>\n",
       "      <th>zip_code</th>\n",
       "      <th>jeep_odometer_miles</th>\n",
       "      <th>jeep_asking_price</th>\n",
       "      <th>subaru_odometer_miles</th>\n",
       "      <th>subaru_asking_price</th>\n",
       "    </tr>\n",
       "  </thead>\n",
       "  <tbody>\n",
       "    <tr>\n",
       "      <th>21</th>\n",
       "      <td>california</td>\n",
       "      <td>irvine</td>\n",
       "      <td>92618</td>\n",
       "      <td>99462</td>\n",
       "      <td>8995</td>\n",
       "      <td>95000</td>\n",
       "      <td>10500</td>\n",
       "    </tr>\n",
       "  </tbody>\n",
       "</table>\n",
       "</div>"
      ],
      "text/plain": [
       "         state carmax_location  zip_code  jeep_odometer_miles  \\\n",
       "21  california          irvine     92618                99462   \n",
       "\n",
       "    jeep_asking_price  subaru_odometer_miles  subaru_asking_price  \n",
       "21               8995                  95000                10500  "
      ]
     },
     "execution_count": 9,
     "metadata": {},
     "output_type": "execute_result"
    }
   ],
   "source": [
    "### Searches dataset for specific criteria within:\n",
    "### 1) .column_name == (here: state)\n",
    "### 2) 'search_criteria' (here: california)\n",
    "car_data[car_data.state == 'california']"
   ]
  },
  {
   "cell_type": "markdown",
   "metadata": {},
   "source": [
    "# Preliminary Investigation into dataset"
   ]
  },
  {
   "cell_type": "markdown",
   "metadata": {},
   "source": [
    "## Plot miles/price relationship"
   ]
  },
  {
   "cell_type": "code",
   "execution_count": 42,
   "metadata": {},
   "outputs": [
    {
     "data": {
      "image/png": "[encoded data removed]",
      "text/plain": [
       "<Figure size 1080x540 with 1 Axes>"
      ]
     },
     "metadata": {
      "needs_background": "light"
     },
     "output_type": "display_data"
    }
   ],
   "source": [
    "# assign variables according to columns in the car_data set\n",
    "jeep_miles = car_data['jeep_odometer_miles']\n",
    "jeep_price = car_data['jeep_asking_price']\n",
    "\n",
    "subaru_miles = car_data['subaru_odometer_miles']\n",
    "subaru_price = car_data['subaru_asking_price']\n",
    "\n",
    "# plot a scatter plot\n",
    "plt.scatter(jeep_miles, jeep_price, s=120, label='jeep')\n",
    "plt.scatter(subaru_miles, subaru_price, s=120, label='subaru')\n",
    "plt.legend()\n",
    "\n",
    "plt.title('Jeep vs. Subaru Asking Price by Odometer Miles')\n",
    "plt.xlabel('Odometer Miles')\n",
    "plt.ylabel('Asking Price')\n",
    "\n",
    "plt.show()"
   ]
  },
  {
   "cell_type": "markdown",
   "metadata": {},
   "source": [
    "# Histograms "
   ]
  },
  {
   "cell_type": "code",
   "execution_count": 43,
   "metadata": {},
   "outputs": [
    {
     "data": {
      "image/png": "[encoded data removed]",
      "text/plain": [
       "<Figure size 1080x540 with 1 Axes>"
      ]
     },
     "metadata": {
      "needs_background": "light"
     },
     "output_type": "display_data"
    }
   ],
   "source": [
    "# create a histogram that groups ('bins') the Jeep vs. Subaru according to price\n",
    "nbins = 10\n",
    "prices = np.concatenate((subaru_price, jeep_price))\n",
    "mn, mx = np.min(prices), np.max(prices)\n",
    "my_bins = np.linspace(mn, mx, nbins)\n",
    "plt.hist(subaru_price, bins=my_bins, alpha=0.5, label='subaru', density=True)\n",
    "plt.hist(jeep_price, bins=my_bins, alpha=0.5, label='jeep', density=True)\n",
    "plt.legend()\n",
    "plt.title('Price')\n",
    "plt.show()"
   ]
  },
  {
   "cell_type": "code",
   "execution_count": 44,
   "metadata": {},
   "outputs": [
    {
     "data": {
      "image/png": "[encoded data removed]",
      "text/plain": [
       "<Figure size 1080x540 with 1 Axes>"
      ]
     },
     "metadata": {
      "needs_background": "light"
     },
     "output_type": "display_data"
    }
   ],
   "source": [
    "# create a histogram that groups ('bins') Jeep vs. Subaru according to miles\n",
    "nbins = 10\n",
    "miles = np.concatenate((subaru_miles, jeep_miles))\n",
    "mn, mx = np.min(miles), np.max(miles)\n",
    "my_bins = np.linspace(mn, mx, nbins)\n",
    "plt.hist(subaru_miles, bins=my_bins, alpha=0.5, label='subaru', density=True)\n",
    "plt.hist(jeep_miles, bins=my_bins, alpha=0.5, label='jeep', density=True)\n",
    "plt.legend()\n",
    "plt.title('Miles')\n",
    "plt.show()"
   ]
  },
  {
   "cell_type": "markdown",
   "metadata": {},
   "source": [
    "# Analysis"
   ]
  },
  {
   "cell_type": "markdown",
   "metadata": {},
   "source": [
    "## Fit Distributions\n"
   ]
  },
  {
   "cell_type": "code",
   "execution_count": 14,
   "metadata": {},
   "outputs": [],
   "source": [
    "import scipy.stats.distributions as dist"
   ]
  },
  {
   "cell_type": "code",
   "execution_count": 15,
   "metadata": {},
   "outputs": [
    {
     "data": {
      "text/plain": [
       "(30, 1)"
      ]
     },
     "execution_count": 15,
     "metadata": {},
     "output_type": "execute_result"
    }
   ],
   "source": [
    "subaru_miles.to_numpy().reshape(-1,1).shape"
   ]
  },
  {
   "cell_type": "code",
   "execution_count": 16,
   "metadata": {},
   "outputs": [],
   "source": [
    "def vandermond_matrix(data):\n",
    "    # if data is 1D, reshape it. \n",
    "    num_data_points = data.shape[0]\n",
    "    A = np.column_stack( (np.ones(num_data_points), data))\n",
    "    return A"
   ]
  },
  {
   "cell_type": "code",
   "execution_count": 17,
   "metadata": {},
   "outputs": [],
   "source": [
    "subaru_miles = subaru_miles.to_numpy()"
   ]
  },
  {
   "cell_type": "code",
   "execution_count": 18,
   "metadata": {},
   "outputs": [],
   "source": [
    "subaru_design_matrix = vandermond_matrix(subaru_miles)\n",
    "jeep_design_matrix = vandermond_matrix(jeep_miles)"
   ]
  },
  {
   "cell_type": "markdown",
   "metadata": {},
   "source": [
    "## Problem\n",
    "$$\n",
    "y = Ax\n",
    "$$\n",
    "\n",
    "where $A$ is the design matrix. $y$ is the thing you are trying to predict (\"data\") (price)\n",
    "\n",
    "Regression: the \"best\" is given by the least squares solution. \n",
    "\n",
    "Numpy has an implementation already. `numpy.pinv`"
   ]
  },
  {
   "cell_type": "code",
   "execution_count": 19,
   "metadata": {},
   "outputs": [
    {
     "data": {
      "text/plain": [
       "array([ 9900,  9995, 11719, 10979,  9780, 13998,  6995, 10995,  9995,\n",
       "        7761,  7500,  8777,  8999,  7498,  8500,  9588,  8500,  7988,\n",
       "        6500,  9999,  9094, 10500,  9588,  7975,  9419,  8895, 11391,\n",
       "        7995, 11624,  8999])"
      ]
     },
     "execution_count": 19,
     "metadata": {},
     "output_type": "execute_result"
    }
   ],
   "source": [
    "subaru_price.to_numpy()\n",
    "# subaru_design_matrix"
   ]
  },
  {
   "cell_type": "code",
   "execution_count": 20,
   "metadata": {},
   "outputs": [],
   "source": [
    "# the way we ordered this... first is intercept, second is slope. (y = b + mx)\n",
    "def model_coeffs(design_matrix, signal):\n",
    "    return np.linalg.pinv(design_matrix)@signal # 'pinv' is a pseudo inverse\n",
    "\n",
    "subaru_coeffs = model_coeffs(subaru_design_matrix, subaru_price.to_numpy() )\n",
    "jeep_coeffs = model_coeffs(jeep_design_matrix, jeep_price.to_numpy() )\n"
   ]
  },
  {
   "cell_type": "code",
   "execution_count": 21,
   "metadata": {},
   "outputs": [],
   "source": [
    "# miles defined earlier.\n",
    "plot_resolution = 1000\n",
    "mn, mx = np.min(miles), np.max(miles)\n",
    "miles_driven = np.linspace(mn, mx, plot_resolution)"
   ]
  },
  {
   "cell_type": "code",
   "execution_count": 22,
   "metadata": {},
   "outputs": [
    {
     "name": "stdout",
     "output_type": "stream",
     "text": [
      "[ 1.34946674e+04 -3.76421516e-02] [ 1.09388649e+04 -2.64714889e-02]\n"
     ]
    }
   ],
   "source": [
    "print(subaru_coeffs, jeep_coeffs) \n",
    "# discover how to compare the slopes through a normal distriubution to determine if there is a stat. sig. dif between\n",
    "# do not train regression models (lines) on 100% data, instead do on ~70% and then test regression using the remaining"
   ]
  },
  {
   "cell_type": "code",
   "execution_count": 23,
   "metadata": {},
   "outputs": [
    {
     "data": {
      "image/png": "[encoded data removed]",
      "text/plain": [
       "<Figure size 432x288 with 1 Axes>"
      ]
     },
     "metadata": {
      "needs_background": "light"
     },
     "output_type": "display_data"
    }
   ],
   "source": [
    "jeep_color, subaru_color = 'xkcd:orange', 'xkcd:wine red'\n",
    "\n",
    "jeep_price_predicted = miles_driven*jeep_coeffs[1] + jeep_coeffs[0]\n",
    "plt.plot(miles_driven, jeep_price_predicted, c=jeep_color, label='jeep regression')\n",
    "plt.scatter(jeep_miles, jeep_price, c=jeep_color, label='jeep data')\n",
    "\n",
    "subaru_price_predicted = miles_driven*subaru_coeffs[1] + subaru_coeffs[0]\n",
    "plt.plot(miles_driven, subaru_price_predicted, c=subaru_color, label='subaru regression')\n",
    "plt.scatter(subaru_miles, subaru_price, c=subaru_color, label='subaru data')\n",
    "plt.legend()\n",
    "plt.show()"
   ]
  },
  {
   "cell_type": "code",
   "execution_count": 24,
   "metadata": {},
   "outputs": [
    {
     "data": {
      "image/png": "[encoded data removed]",
      "text/plain": [
       "<Figure size 432x288 with 1 Axes>"
      ]
     },
     "metadata": {
      "needs_background": "light"
     },
     "output_type": "display_data"
    }
   ],
   "source": [
    "jeep_normal_dist_miles = dist.norm(loc=jeep_miles.mean(), scale=jeep_miles.std() )\n",
    "subaru_normal_dist_miles = dist.norm(loc=subaru_miles.mean(), scale=subaru_miles.std() )\n",
    "\n",
    "plt.plot(miles_driven, jeep_normal_dist_miles.pdf(miles_driven), label='jeep miles fit', c=jeep_color)\n",
    "plt.plot(miles_driven, subaru_normal_dist_miles.pdf(miles_driven), label='subaru miles fit', c=subaru_color)\n",
    "plt.legend()\n",
    "plt.show()"
   ]
  },
  {
   "cell_type": "code",
   "execution_count": 25,
   "metadata": {},
   "outputs": [
    {
     "data": {
      "image/png": "[encoded data removed]",
      "text/plain": [
       "<Figure size 432x288 with 1 Axes>"
      ]
     },
     "metadata": {
      "needs_background": "light"
     },
     "output_type": "display_data"
    }
   ],
   "source": [
    "jeep_normal_dist_price = dist.norm(loc=jeep_price.mean(), scale=jeep_price.std() )\n",
    "subaru_normal_dist_price = dist.norm(loc=subaru_price.mean(), scale=subaru_price.std() )\n",
    "joint_normal_dist_price = dist.norm(loc=prices.mean(), scale=prices.std() )\n",
    "\n",
    "plot_resolution = 1000\n",
    "mn, mx = np.min(prices), np.max(prices)\n",
    "dollars = np.linspace(mn, mx, plot_resolution)\n",
    "\n",
    "alpha = 0.1\n",
    "jeep_confidence_interval = jeep_normal_dist_price.interval(1-alpha)\n",
    "subaru_confidence_interval = subaru_normal_dist_price.interval(1-alpha)\n",
    "joint_confidence_interval = joint_normal_dist_price.interval(1-alpha)\n",
    "\n",
    "jeep_price_pred = jeep_normal_dist_price.pdf(dollars)\n",
    "subaru_price_pred = subaru_normal_dist_price.pdf(dollars)\n",
    "joint_price_pred = joint_normal_dist_price.pdf(dollars)\n",
    "\n",
    "plt.plot(dollars, jeep_price_pred, label='jeep price fit', c=jeep_color)\n",
    "plt.plot(dollars, subaru_price_pred, label='subaru price fit', c=subaru_color)\n",
    "plt.plot(dollars, joint_normal_dist_price.pdf(dollars), label='joint price fit', c='k')\n",
    "\n",
    "\n",
    "for i in range(2):\n",
    "    plt.vlines(jeep_confidence_interval[i], 0, jeep_normal_dist_price.pdf(jeep_confidence_interval[i]), color=jeep_color)\n",
    "    plt.vlines(subaru_confidence_interval[i], 0, subaru_normal_dist_price.pdf(subaru_confidence_interval[i]),  color=subaru_color)\n",
    "    plt.vlines(joint_confidence_interval[i], 0, joint_normal_dist_price.pdf(joint_confidence_interval[i]))\n",
    "\n",
    "jeep_normal_dist_price_mean = jeep_normal_dist_price.mean()\n",
    "subaru_normal_dist_price_mean = subaru_normal_dist_price.mean()\n",
    "joint_normal_dist_price_mean = joint_normal_dist_price.mean()\n",
    "\n",
    "plt.vlines(jeep_normal_dist_price_mean, 0, jeep_normal_dist_price.pdf(jeep_normal_dist_price_mean), color=jeep_color)\n",
    "plt.vlines(subaru_normal_dist_price_mean, 0, subaru_normal_dist_price.pdf(subaru_normal_dist_price_mean),  color=subaru_color)\n",
    "plt.vlines(joint_normal_dist_price_mean, 0, joint_normal_dist_price.pdf(joint_normal_dist_price_mean))\n",
    "plt.legend()\n",
    "plt.show()"
   ]
  },
  {
   "cell_type": "markdown",
   "metadata": {},
   "source": [
    "- shapiro failed to reject possibility of normality. it's possible our samples came from normals.\n",
    "- so let's fit normal distributions. \n",
    "- these can now be treated kind of like approximated \"populations\" to sample from."
   ]
  },
  {
   "cell_type": "code",
   "execution_count": 26,
   "metadata": {},
   "outputs": [
    {
     "data": {
      "image/png": "[encoded data removed]",
      "text/plain": [
       "<Figure size 432x288 with 1 Axes>"
      ]
     },
     "metadata": {
      "needs_background": "light"
     },
     "output_type": "display_data"
    }
   ],
   "source": [
    "jeep_normal_dist_mile = dist.norm(loc=jeep_miles.mean(), scale=jeep_miles.std() )\n",
    "subaru_normal_dist_mile = dist.norm(loc=subaru_miles.mean(), scale=subaru_miles.std() )\n",
    "joint_normal_dist_mile = dist.norm(loc=miles.mean(), scale=miles.std() )\n",
    "\n",
    "plot_resolution = 1000\n",
    "mn, mx = np.min(miles), np.max(miles)\n",
    "dollars = np.linspace(mn, mx, plot_resolution)\n",
    "\n",
    "alpha = 0.1\n",
    "jeep_confidence_interval = jeep_normal_dist_mile.interval(1-alpha)\n",
    "subaru_confidence_interval = subaru_normal_dist_mile.interval(1-alpha)\n",
    "joint_confidence_interval = joint_normal_dist_mile.interval(1-alpha)\n",
    "\n",
    "jeep_mile_pred = jeep_normal_dist_mile.pdf(dollars)\n",
    "subaru_mile_pred = subaru_normal_dist_mile.pdf(dollars)\n",
    "joint_mile_pred = joint_normal_dist_mile.pdf(dollars)\n",
    "\n",
    "plt.plot(dollars, jeep_mile_pred, label='jeep mile fit', c=jeep_color)\n",
    "plt.plot(dollars, subaru_mile_pred, label='subaru mile fit', c=subaru_color)\n",
    "plt.plot(dollars, joint_normal_dist_mile.pdf(dollars), label='joint mile fit', c='k')\n",
    "\n",
    "\n",
    "for i in range(2):\n",
    "    plt.vlines(jeep_confidence_interval[i], 0, jeep_normal_dist_mile.pdf(jeep_confidence_interval[i]), color=jeep_color)\n",
    "    plt.vlines(subaru_confidence_interval[i], 0, subaru_normal_dist_mile.pdf(subaru_confidence_interval[i]),  color=subaru_color)\n",
    "    plt.vlines(joint_confidence_interval[i], 0, joint_normal_dist_mile.pdf(joint_confidence_interval[i]))\n",
    "\n",
    "jeep_normal_dist_mile_mean = jeep_normal_dist_mile.mean()\n",
    "subaru_normal_dist_mile_mean = subaru_normal_dist_mile.mean()\n",
    "joint_normal_dist_mile_mean = joint_normal_dist_mile.mean()\n",
    "\n",
    "plt.vlines(jeep_normal_dist_mile_mean, 0, jeep_normal_dist_mile.pdf(jeep_normal_dist_mile_mean), color=jeep_color)\n",
    "plt.vlines(subaru_normal_dist_mile_mean, 0, subaru_normal_dist_mile.pdf(subaru_normal_dist_mile_mean),  color=subaru_color)\n",
    "plt.vlines(joint_normal_dist_mile_mean, 0, joint_normal_dist_mile.pdf(joint_normal_dist_mile_mean))\n",
    "plt.legend()\n",
    "plt.show()"
   ]
  },
  {
   "cell_type": "markdown",
   "metadata": {},
   "source": [
    "B = dist.norm(*dist.norm.fit(subaru_miles))"
   ]
  },
  {
   "cell_type": "code",
   "execution_count": 27,
   "metadata": {},
   "outputs": [
    {
     "ename": "NameError",
     "evalue": "name 'B' is not defined",
     "output_type": "error",
     "traceback": [
      "\u001b[0;31m---------------------------------------------------------------------------\u001b[0m",
      "\u001b[0;31mNameError\u001b[0m                                 Traceback (most recent call last)",
      "\u001b[0;32m<ipython-input-27-0b5500cbaee1>\u001b[0m in \u001b[0;36m<module>\u001b[0;34m\u001b[0m\n\u001b[0;32m----> 1\u001b[0;31m \u001b[0mplt\u001b[0m\u001b[0;34m.\u001b[0m\u001b[0mplot\u001b[0m\u001b[0;34m(\u001b[0m\u001b[0mmiles_driven\u001b[0m\u001b[0;34m,\u001b[0m \u001b[0mB\u001b[0m\u001b[0;34m.\u001b[0m\u001b[0mpdf\u001b[0m\u001b[0;34m(\u001b[0m\u001b[0mmiles_driven\u001b[0m\u001b[0;34m)\u001b[0m\u001b[0;34m)\u001b[0m\u001b[0;34m\u001b[0m\u001b[0;34m\u001b[0m\u001b[0m\n\u001b[0m\u001b[1;32m      2\u001b[0m \u001b[0mplt\u001b[0m\u001b[0;34m.\u001b[0m\u001b[0mylim\u001b[0m\u001b[0;34m(\u001b[0m\u001b[0;36m0\u001b[0m\u001b[0;34m,\u001b[0m\u001b[0;36m0.00003\u001b[0m\u001b[0;34m)\u001b[0m\u001b[0;34m\u001b[0m\u001b[0;34m\u001b[0m\u001b[0m\n",
      "\u001b[0;31mNameError\u001b[0m: name 'B' is not defined"
     ]
    }
   ],
   "source": [
    "plt.plot(miles_driven, B.pdf(miles_driven))\n",
    "plt.ylim(0,0.00003)"
   ]
  },
  {
   "cell_type": "code",
   "execution_count": null,
   "metadata": {},
   "outputs": [],
   "source": [
    "B.mean(), B.std()"
   ]
  },
  {
   "cell_type": "code",
   "execution_count": 28,
   "metadata": {},
   "outputs": [
    {
     "data": {
      "text/plain": [
       "16025.690597811428"
      ]
     },
     "execution_count": 28,
     "metadata": {},
     "output_type": "execute_result"
    }
   ],
   "source": [
    "jeep_miles.std()"
   ]
  },
  {
   "cell_type": "code",
   "execution_count": 49,
   "metadata": {},
   "outputs": [
    {
     "data": {
      "text/plain": [
       "(5847.42747167762, 11703.339194989047)"
      ]
     },
     "execution_count": 49,
     "metadata": {},
     "output_type": "execute_result"
    }
   ],
   "source": [
    "joint_normal_dist_price = dist.norm(loc=prices.mean(), scale=prices.std() )\n",
    "joint_normal_dist_price.interval(0.95)"
   ]
  },
  {
   "cell_type": "code",
   "execution_count": 30,
   "metadata": {},
   "outputs": [],
   "source": [
    "import scipy.stats\n"
   ]
  },
  {
   "cell_type": "code",
   "execution_count": 51,
   "metadata": {},
   "outputs": [
    {
     "data": {
      "text/plain": [
       "Ttest_indResult(statistic=3.3809600940166527, pvalue=0.001386882150564184)"
      ]
     },
     "execution_count": 51,
     "metadata": {},
     "output_type": "execute_result"
    }
   ],
   "source": [
    "scipy.stats.ttest_ind(subaru_price, jeep_price, equal_var=False)"
   ]
  },
  {
   "cell_type": "markdown",
   "metadata": {},
   "source": [
    "now let's test our fitted distributions, generating larger sample sizes from them.\n",
    "(artificial data set!!)\n",
    "\n",
    "this is simulating new cars from each distribution"
   ]
  },
  {
   "cell_type": "code",
   "execution_count": 57,
   "metadata": {},
   "outputs": [
    {
     "data": {
      "text/plain": [
       "Ttest_indResult(statistic=2.0683221279596475, pvalue=0.04317595282188859)"
      ]
     },
     "execution_count": 57,
     "metadata": {},
     "output_type": "execute_result"
    }
   ],
   "source": [
    "scipy.stats.ttest_ind(subaru_normal_dist_price.rvs(30), jeep_normal_dist_price.rvs(30), equal_var=False)"
   ]
  },
  {
   "cell_type": "code",
   "execution_count": 33,
   "metadata": {},
   "outputs": [
    {
     "data": {
      "text/plain": [
       "Ttest_indResult(statistic=-9.231389395571869, pvalue=3.0032037741812606e-11)"
      ]
     },
     "execution_count": 33,
     "metadata": {},
     "output_type": "execute_result"
    }
   ],
   "source": [
    "a = np.random.randn(20)\n",
    "b = np.random.randn(20) + 3\n",
    "scipy.stats.ttest_ind(a, b)"
   ]
  },
  {
   "cell_type": "code",
   "execution_count": 58,
   "metadata": {},
   "outputs": [
    {
     "data": {
      "text/plain": [
       "Ttest_indResult(statistic=0.9136175845923031, pvalue=0.3651275291733391)"
      ]
     },
     "execution_count": 58,
     "metadata": {},
     "output_type": "execute_result"
    }
   ],
   "source": [
    "scipy.stats.ttest_ind(subaru_miles, jeep_miles, equal_var=False)"
   ]
  },
  {
   "cell_type": "code",
   "execution_count": 35,
   "metadata": {},
   "outputs": [
    {
     "data": {
      "text/plain": [
       "(1618.6807470651959, 1112.1946208792074)"
      ]
     },
     "execution_count": 35,
     "metadata": {},
     "output_type": "execute_result"
    }
   ],
   "source": [
    "subaru_price.std(), jeep_price.std()"
   ]
  },
  {
   "cell_type": "code",
   "execution_count": 36,
   "metadata": {},
   "outputs": [
    {
     "data": {
      "text/plain": [
       "\u001b[0;31mSignature:\u001b[0m \u001b[0mscipy\u001b[0m\u001b[0;34m.\u001b[0m\u001b[0mstats\u001b[0m\u001b[0;34m.\u001b[0m\u001b[0mttest_ind\u001b[0m\u001b[0;34m(\u001b[0m\u001b[0ma\u001b[0m\u001b[0;34m,\u001b[0m \u001b[0mb\u001b[0m\u001b[0;34m,\u001b[0m \u001b[0maxis\u001b[0m\u001b[0;34m=\u001b[0m\u001b[0;36m0\u001b[0m\u001b[0;34m,\u001b[0m \u001b[0mequal_var\u001b[0m\u001b[0;34m=\u001b[0m\u001b[0;32mTrue\u001b[0m\u001b[0;34m,\u001b[0m \u001b[0mnan_policy\u001b[0m\u001b[0;34m=\u001b[0m\u001b[0;34m'propagate'\u001b[0m\u001b[0;34m)\u001b[0m\u001b[0;34m\u001b[0m\u001b[0;34m\u001b[0m\u001b[0m\n",
       "\u001b[0;31mSource:\u001b[0m   \n",
       "\u001b[0;32mdef\u001b[0m \u001b[0mttest_ind\u001b[0m\u001b[0;34m(\u001b[0m\u001b[0ma\u001b[0m\u001b[0;34m,\u001b[0m \u001b[0mb\u001b[0m\u001b[0;34m,\u001b[0m \u001b[0maxis\u001b[0m\u001b[0;34m=\u001b[0m\u001b[0;36m0\u001b[0m\u001b[0;34m,\u001b[0m \u001b[0mequal_var\u001b[0m\u001b[0;34m=\u001b[0m\u001b[0;32mTrue\u001b[0m\u001b[0;34m,\u001b[0m \u001b[0mnan_policy\u001b[0m\u001b[0;34m=\u001b[0m\u001b[0;34m'propagate'\u001b[0m\u001b[0;34m)\u001b[0m\u001b[0;34m:\u001b[0m\u001b[0;34m\u001b[0m\n",
       "\u001b[0;34m\u001b[0m    \u001b[0;34m\"\"\"\u001b[0m\n",
       "\u001b[0;34m    Calculate the T-test for the means of *two independent* samples of scores.\u001b[0m\n",
       "\u001b[0;34m\u001b[0m\n",
       "\u001b[0;34m    This is a two-sided test for the null hypothesis that 2 independent samples\u001b[0m\n",
       "\u001b[0;34m    have identical average (expected) values. This test assumes that the\u001b[0m\n",
       "\u001b[0;34m    populations have identical variances by default.\u001b[0m\n",
       "\u001b[0;34m\u001b[0m\n",
       "\u001b[0;34m    Parameters\u001b[0m\n",
       "\u001b[0;34m    ----------\u001b[0m\n",
       "\u001b[0;34m    a, b : array_like\u001b[0m\n",
       "\u001b[0;34m        The arrays must have the same shape, except in the dimension\u001b[0m\n",
       "\u001b[0;34m        corresponding to `axis` (the first, by default).\u001b[0m\n",
       "\u001b[0;34m    axis : int or None, optional\u001b[0m\n",
       "\u001b[0;34m        Axis along which to compute test. If None, compute over the whole\u001b[0m\n",
       "\u001b[0;34m        arrays, `a`, and `b`.\u001b[0m\n",
       "\u001b[0;34m    equal_var : bool, optional\u001b[0m\n",
       "\u001b[0;34m        If True (default), perform a standard independent 2 sample test\u001b[0m\n",
       "\u001b[0;34m        that assumes equal population variances [1]_.\u001b[0m\n",
       "\u001b[0;34m        If False, perform Welch's t-test, which does not assume equal\u001b[0m\n",
       "\u001b[0;34m        population variance [2]_.\u001b[0m\n",
       "\u001b[0;34m\u001b[0m\n",
       "\u001b[0;34m        .. versionadded:: 0.11.0\u001b[0m\n",
       "\u001b[0;34m    nan_policy : {'propagate', 'raise', 'omit'}, optional\u001b[0m\n",
       "\u001b[0;34m        Defines how to handle when input contains nan. 'propagate' returns nan,\u001b[0m\n",
       "\u001b[0;34m        'raise' throws an error, 'omit' performs the calculations ignoring nan\u001b[0m\n",
       "\u001b[0;34m        values. Default is 'propagate'.\u001b[0m\n",
       "\u001b[0;34m\u001b[0m\n",
       "\u001b[0;34m\u001b[0m\n",
       "\u001b[0;34m    Returns\u001b[0m\n",
       "\u001b[0;34m    -------\u001b[0m\n",
       "\u001b[0;34m    statistic : float or array\u001b[0m\n",
       "\u001b[0;34m        The calculated t-statistic.\u001b[0m\n",
       "\u001b[0;34m    pvalue : float or array\u001b[0m\n",
       "\u001b[0;34m        The two-tailed p-value.\u001b[0m\n",
       "\u001b[0;34m\u001b[0m\n",
       "\u001b[0;34m    Notes\u001b[0m\n",
       "\u001b[0;34m    -----\u001b[0m\n",
       "\u001b[0;34m    We can use this test, if we observe two independent samples from\u001b[0m\n",
       "\u001b[0;34m    the same or different population, e.g. exam scores of boys and\u001b[0m\n",
       "\u001b[0;34m    girls or of two ethnic groups. The test measures whether the\u001b[0m\n",
       "\u001b[0;34m    average (expected) value differs significantly across samples. If\u001b[0m\n",
       "\u001b[0;34m    we observe a large p-value, for example larger than 0.05 or 0.1,\u001b[0m\n",
       "\u001b[0;34m    then we cannot reject the null hypothesis of identical average scores.\u001b[0m\n",
       "\u001b[0;34m    If the p-value is smaller than the threshold, e.g. 1%, 5% or 10%,\u001b[0m\n",
       "\u001b[0;34m    then we reject the null hypothesis of equal averages.\u001b[0m\n",
       "\u001b[0;34m\u001b[0m\n",
       "\u001b[0;34m    References\u001b[0m\n",
       "\u001b[0;34m    ----------\u001b[0m\n",
       "\u001b[0;34m    .. [1] https://en.wikipedia.org/wiki/T-test#Independent_two-sample_t-test\u001b[0m\n",
       "\u001b[0;34m\u001b[0m\n",
       "\u001b[0;34m    .. [2] https://en.wikipedia.org/wiki/Welch%27s_t-test\u001b[0m\n",
       "\u001b[0;34m\u001b[0m\n",
       "\u001b[0;34m    Examples\u001b[0m\n",
       "\u001b[0;34m    --------\u001b[0m\n",
       "\u001b[0;34m    >>> from scipy import stats\u001b[0m\n",
       "\u001b[0;34m    >>> np.random.seed(12345678)\u001b[0m\n",
       "\u001b[0;34m\u001b[0m\n",
       "\u001b[0;34m    Test with sample with identical means:\u001b[0m\n",
       "\u001b[0;34m\u001b[0m\n",
       "\u001b[0;34m    >>> rvs1 = stats.norm.rvs(loc=5,scale=10,size=500)\u001b[0m\n",
       "\u001b[0;34m    >>> rvs2 = stats.norm.rvs(loc=5,scale=10,size=500)\u001b[0m\n",
       "\u001b[0;34m    >>> stats.ttest_ind(rvs1,rvs2)\u001b[0m\n",
       "\u001b[0;34m    (0.26833823296239279, 0.78849443369564776)\u001b[0m\n",
       "\u001b[0;34m    >>> stats.ttest_ind(rvs1,rvs2, equal_var = False)\u001b[0m\n",
       "\u001b[0;34m    (0.26833823296239279, 0.78849452749500748)\u001b[0m\n",
       "\u001b[0;34m\u001b[0m\n",
       "\u001b[0;34m    `ttest_ind` underestimates p for unequal variances:\u001b[0m\n",
       "\u001b[0;34m\u001b[0m\n",
       "\u001b[0;34m    >>> rvs3 = stats.norm.rvs(loc=5, scale=20, size=500)\u001b[0m\n",
       "\u001b[0;34m    >>> stats.ttest_ind(rvs1, rvs3)\u001b[0m\n",
       "\u001b[0;34m    (-0.46580283298287162, 0.64145827413436174)\u001b[0m\n",
       "\u001b[0;34m    >>> stats.ttest_ind(rvs1, rvs3, equal_var = False)\u001b[0m\n",
       "\u001b[0;34m    (-0.46580283298287162, 0.64149646246569292)\u001b[0m\n",
       "\u001b[0;34m\u001b[0m\n",
       "\u001b[0;34m    When n1 != n2, the equal variance t-statistic is no longer equal to the\u001b[0m\n",
       "\u001b[0;34m    unequal variance t-statistic:\u001b[0m\n",
       "\u001b[0;34m\u001b[0m\n",
       "\u001b[0;34m    >>> rvs4 = stats.norm.rvs(loc=5, scale=20, size=100)\u001b[0m\n",
       "\u001b[0;34m    >>> stats.ttest_ind(rvs1, rvs4)\u001b[0m\n",
       "\u001b[0;34m    (-0.99882539442782481, 0.3182832709103896)\u001b[0m\n",
       "\u001b[0;34m    >>> stats.ttest_ind(rvs1, rvs4, equal_var = False)\u001b[0m\n",
       "\u001b[0;34m    (-0.69712570584654099, 0.48716927725402048)\u001b[0m\n",
       "\u001b[0;34m\u001b[0m\n",
       "\u001b[0;34m    T-test with different means, variance, and n:\u001b[0m\n",
       "\u001b[0;34m\u001b[0m\n",
       "\u001b[0;34m    >>> rvs5 = stats.norm.rvs(loc=8, scale=20, size=100)\u001b[0m\n",
       "\u001b[0;34m    >>> stats.ttest_ind(rvs1, rvs5)\u001b[0m\n",
       "\u001b[0;34m    (-1.4679669854490653, 0.14263895620529152)\u001b[0m\n",
       "\u001b[0;34m    >>> stats.ttest_ind(rvs1, rvs5, equal_var = False)\u001b[0m\n",
       "\u001b[0;34m    (-0.94365973617132992, 0.34744170334794122)\u001b[0m\n",
       "\u001b[0;34m\u001b[0m\n",
       "\u001b[0;34m    \"\"\"\u001b[0m\u001b[0;34m\u001b[0m\n",
       "\u001b[0;34m\u001b[0m    \u001b[0ma\u001b[0m\u001b[0;34m,\u001b[0m \u001b[0mb\u001b[0m\u001b[0;34m,\u001b[0m \u001b[0maxis\u001b[0m \u001b[0;34m=\u001b[0m \u001b[0m_chk2_asarray\u001b[0m\u001b[0;34m(\u001b[0m\u001b[0ma\u001b[0m\u001b[0;34m,\u001b[0m \u001b[0mb\u001b[0m\u001b[0;34m,\u001b[0m \u001b[0maxis\u001b[0m\u001b[0;34m)\u001b[0m\u001b[0;34m\u001b[0m\n",
       "\u001b[0;34m\u001b[0m\u001b[0;34m\u001b[0m\n",
       "\u001b[0;34m\u001b[0m    \u001b[0;31m# check both a and b\u001b[0m\u001b[0;34m\u001b[0m\n",
       "\u001b[0;34m\u001b[0m    \u001b[0mcna\u001b[0m\u001b[0;34m,\u001b[0m \u001b[0mnpa\u001b[0m \u001b[0;34m=\u001b[0m \u001b[0m_contains_nan\u001b[0m\u001b[0;34m(\u001b[0m\u001b[0ma\u001b[0m\u001b[0;34m,\u001b[0m \u001b[0mnan_policy\u001b[0m\u001b[0;34m)\u001b[0m\u001b[0;34m\u001b[0m\n",
       "\u001b[0;34m\u001b[0m    \u001b[0mcnb\u001b[0m\u001b[0;34m,\u001b[0m \u001b[0mnpb\u001b[0m \u001b[0;34m=\u001b[0m \u001b[0m_contains_nan\u001b[0m\u001b[0;34m(\u001b[0m\u001b[0mb\u001b[0m\u001b[0;34m,\u001b[0m \u001b[0mnan_policy\u001b[0m\u001b[0;34m)\u001b[0m\u001b[0;34m\u001b[0m\n",
       "\u001b[0;34m\u001b[0m    \u001b[0mcontains_nan\u001b[0m \u001b[0;34m=\u001b[0m \u001b[0mcna\u001b[0m \u001b[0;32mor\u001b[0m \u001b[0mcnb\u001b[0m\u001b[0;34m\u001b[0m\n",
       "\u001b[0;34m\u001b[0m    \u001b[0;32mif\u001b[0m \u001b[0mnpa\u001b[0m \u001b[0;34m==\u001b[0m \u001b[0;34m'omit'\u001b[0m \u001b[0;32mor\u001b[0m \u001b[0mnpb\u001b[0m \u001b[0;34m==\u001b[0m \u001b[0;34m'omit'\u001b[0m\u001b[0;34m:\u001b[0m\u001b[0;34m\u001b[0m\n",
       "\u001b[0;34m\u001b[0m        \u001b[0mnan_policy\u001b[0m \u001b[0;34m=\u001b[0m \u001b[0;34m'omit'\u001b[0m\u001b[0;34m\u001b[0m\n",
       "\u001b[0;34m\u001b[0m\u001b[0;34m\u001b[0m\n",
       "\u001b[0;34m\u001b[0m    \u001b[0;32mif\u001b[0m \u001b[0mcontains_nan\u001b[0m \u001b[0;32mand\u001b[0m \u001b[0mnan_policy\u001b[0m \u001b[0;34m==\u001b[0m \u001b[0;34m'omit'\u001b[0m\u001b[0;34m:\u001b[0m\u001b[0;34m\u001b[0m\n",
       "\u001b[0;34m\u001b[0m        \u001b[0ma\u001b[0m \u001b[0;34m=\u001b[0m \u001b[0mma\u001b[0m\u001b[0;34m.\u001b[0m\u001b[0mmasked_invalid\u001b[0m\u001b[0;34m(\u001b[0m\u001b[0ma\u001b[0m\u001b[0;34m)\u001b[0m\u001b[0;34m\u001b[0m\n",
       "\u001b[0;34m\u001b[0m        \u001b[0mb\u001b[0m \u001b[0;34m=\u001b[0m \u001b[0mma\u001b[0m\u001b[0;34m.\u001b[0m\u001b[0mmasked_invalid\u001b[0m\u001b[0;34m(\u001b[0m\u001b[0mb\u001b[0m\u001b[0;34m)\u001b[0m\u001b[0;34m\u001b[0m\n",
       "\u001b[0;34m\u001b[0m        \u001b[0;32mreturn\u001b[0m \u001b[0mmstats_basic\u001b[0m\u001b[0;34m.\u001b[0m\u001b[0mttest_ind\u001b[0m\u001b[0;34m(\u001b[0m\u001b[0ma\u001b[0m\u001b[0;34m,\u001b[0m \u001b[0mb\u001b[0m\u001b[0;34m,\u001b[0m \u001b[0maxis\u001b[0m\u001b[0;34m,\u001b[0m \u001b[0mequal_var\u001b[0m\u001b[0;34m)\u001b[0m\u001b[0;34m\u001b[0m\n",
       "\u001b[0;34m\u001b[0m\u001b[0;34m\u001b[0m\n",
       "\u001b[0;34m\u001b[0m    \u001b[0;32mif\u001b[0m \u001b[0ma\u001b[0m\u001b[0;34m.\u001b[0m\u001b[0msize\u001b[0m \u001b[0;34m==\u001b[0m \u001b[0;36m0\u001b[0m \u001b[0;32mor\u001b[0m \u001b[0mb\u001b[0m\u001b[0;34m.\u001b[0m\u001b[0msize\u001b[0m \u001b[0;34m==\u001b[0m \u001b[0;36m0\u001b[0m\u001b[0;34m:\u001b[0m\u001b[0;34m\u001b[0m\n",
       "\u001b[0;34m\u001b[0m        \u001b[0;32mreturn\u001b[0m \u001b[0mTtest_indResult\u001b[0m\u001b[0;34m(\u001b[0m\u001b[0mnp\u001b[0m\u001b[0;34m.\u001b[0m\u001b[0mnan\u001b[0m\u001b[0;34m,\u001b[0m \u001b[0mnp\u001b[0m\u001b[0;34m.\u001b[0m\u001b[0mnan\u001b[0m\u001b[0;34m)\u001b[0m\u001b[0;34m\u001b[0m\n",
       "\u001b[0;34m\u001b[0m\u001b[0;34m\u001b[0m\n",
       "\u001b[0;34m\u001b[0m    \u001b[0mv1\u001b[0m \u001b[0;34m=\u001b[0m \u001b[0mnp\u001b[0m\u001b[0;34m.\u001b[0m\u001b[0mvar\u001b[0m\u001b[0;34m(\u001b[0m\u001b[0ma\u001b[0m\u001b[0;34m,\u001b[0m \u001b[0maxis\u001b[0m\u001b[0;34m,\u001b[0m \u001b[0mddof\u001b[0m\u001b[0;34m=\u001b[0m\u001b[0;36m1\u001b[0m\u001b[0;34m)\u001b[0m\u001b[0;34m\u001b[0m\n",
       "\u001b[0;34m\u001b[0m    \u001b[0mv2\u001b[0m \u001b[0;34m=\u001b[0m \u001b[0mnp\u001b[0m\u001b[0;34m.\u001b[0m\u001b[0mvar\u001b[0m\u001b[0;34m(\u001b[0m\u001b[0mb\u001b[0m\u001b[0;34m,\u001b[0m \u001b[0maxis\u001b[0m\u001b[0;34m,\u001b[0m \u001b[0mddof\u001b[0m\u001b[0;34m=\u001b[0m\u001b[0;36m1\u001b[0m\u001b[0;34m)\u001b[0m\u001b[0;34m\u001b[0m\n",
       "\u001b[0;34m\u001b[0m    \u001b[0mn1\u001b[0m \u001b[0;34m=\u001b[0m \u001b[0ma\u001b[0m\u001b[0;34m.\u001b[0m\u001b[0mshape\u001b[0m\u001b[0;34m[\u001b[0m\u001b[0maxis\u001b[0m\u001b[0;34m]\u001b[0m\u001b[0;34m\u001b[0m\n",
       "\u001b[0;34m\u001b[0m    \u001b[0mn2\u001b[0m \u001b[0;34m=\u001b[0m \u001b[0mb\u001b[0m\u001b[0;34m.\u001b[0m\u001b[0mshape\u001b[0m\u001b[0;34m[\u001b[0m\u001b[0maxis\u001b[0m\u001b[0;34m]\u001b[0m\u001b[0;34m\u001b[0m\n",
       "\u001b[0;34m\u001b[0m\u001b[0;34m\u001b[0m\n",
       "\u001b[0;34m\u001b[0m    \u001b[0;32mif\u001b[0m \u001b[0mequal_var\u001b[0m\u001b[0;34m:\u001b[0m\u001b[0;34m\u001b[0m\n",
       "\u001b[0;34m\u001b[0m        \u001b[0mdf\u001b[0m\u001b[0;34m,\u001b[0m \u001b[0mdenom\u001b[0m \u001b[0;34m=\u001b[0m \u001b[0m_equal_var_ttest_denom\u001b[0m\u001b[0;34m(\u001b[0m\u001b[0mv1\u001b[0m\u001b[0;34m,\u001b[0m \u001b[0mn1\u001b[0m\u001b[0;34m,\u001b[0m \u001b[0mv2\u001b[0m\u001b[0;34m,\u001b[0m \u001b[0mn2\u001b[0m\u001b[0;34m)\u001b[0m\u001b[0;34m\u001b[0m\n",
       "\u001b[0;34m\u001b[0m    \u001b[0;32melse\u001b[0m\u001b[0;34m:\u001b[0m\u001b[0;34m\u001b[0m\n",
       "\u001b[0;34m\u001b[0m        \u001b[0mdf\u001b[0m\u001b[0;34m,\u001b[0m \u001b[0mdenom\u001b[0m \u001b[0;34m=\u001b[0m \u001b[0m_unequal_var_ttest_denom\u001b[0m\u001b[0;34m(\u001b[0m\u001b[0mv1\u001b[0m\u001b[0;34m,\u001b[0m \u001b[0mn1\u001b[0m\u001b[0;34m,\u001b[0m \u001b[0mv2\u001b[0m\u001b[0;34m,\u001b[0m \u001b[0mn2\u001b[0m\u001b[0;34m)\u001b[0m\u001b[0;34m\u001b[0m\n",
       "\u001b[0;34m\u001b[0m\u001b[0;34m\u001b[0m\n",
       "\u001b[0;34m\u001b[0m    \u001b[0mres\u001b[0m \u001b[0;34m=\u001b[0m \u001b[0m_ttest_ind_from_stats\u001b[0m\u001b[0;34m(\u001b[0m\u001b[0mnp\u001b[0m\u001b[0;34m.\u001b[0m\u001b[0mmean\u001b[0m\u001b[0;34m(\u001b[0m\u001b[0ma\u001b[0m\u001b[0;34m,\u001b[0m \u001b[0maxis\u001b[0m\u001b[0;34m)\u001b[0m\u001b[0;34m,\u001b[0m \u001b[0mnp\u001b[0m\u001b[0;34m.\u001b[0m\u001b[0mmean\u001b[0m\u001b[0;34m(\u001b[0m\u001b[0mb\u001b[0m\u001b[0;34m,\u001b[0m \u001b[0maxis\u001b[0m\u001b[0;34m)\u001b[0m\u001b[0;34m,\u001b[0m \u001b[0mdenom\u001b[0m\u001b[0;34m,\u001b[0m \u001b[0mdf\u001b[0m\u001b[0;34m)\u001b[0m\u001b[0;34m\u001b[0m\n",
       "\u001b[0;34m\u001b[0m\u001b[0;34m\u001b[0m\n",
       "\u001b[0;34m\u001b[0m    \u001b[0;32mreturn\u001b[0m \u001b[0mTtest_indResult\u001b[0m\u001b[0;34m(\u001b[0m\u001b[0;34m*\u001b[0m\u001b[0mres\u001b[0m\u001b[0;34m)\u001b[0m\u001b[0;34m\u001b[0m\u001b[0;34m\u001b[0m\u001b[0m\n",
       "\u001b[0;31mFile:\u001b[0m      ~/anaconda3/lib/python3.7/site-packages/scipy/stats/stats.py\n",
       "\u001b[0;31mType:\u001b[0m      function\n"
      ]
     },
     "metadata": {},
     "output_type": "display_data"
    }
   ],
   "source": [
    "scipy.stats.ttest_ind??"
   ]
  },
  {
   "cell_type": "code",
   "execution_count": 45,
   "metadata": {},
   "outputs": [
    {
     "data": {
      "text/plain": [
       "((0.9688223004341125, 0.5074750185012817),\n",
       " (0.9534995555877686, 0.2095884382724762))"
      ]
     },
     "execution_count": 45,
     "metadata": {},
     "output_type": "execute_result"
    }
   ],
   "source": [
    "scipy.stats.shapiro(subaru_price), scipy.stats.shapiro(jeep_price)"
   ]
  },
  {
   "cell_type": "markdown",
   "metadata": {},
   "source": [
    "p>0.05, so we fail to reject the null hypothesis.\n",
    "The null hypothesis was that prices are normally distributed.\n"
   ]
  },
  {
   "cell_type": "markdown",
   "metadata": {},
   "source": [
    "## Normal"
   ]
  },
  {
   "cell_type": "code",
   "execution_count": 46,
   "metadata": {},
   "outputs": [
    {
     "data": {
      "text/plain": [
       "((0.9529148936271667, 0.20222873985767365),\n",
       " (0.9476072192192078, 0.1458173245191574))"
      ]
     },
     "execution_count": 46,
     "metadata": {},
     "output_type": "execute_result"
    }
   ],
   "source": [
    "scipy.stats.shapiro(subaru_miles), scipy.stats.shapiro(jeep_miles)\n",
    "# fail to reject null hypothesis. it is possible that these are normally distributed"
   ]
  },
  {
   "cell_type": "markdown",
   "metadata": {},
   "source": [
    "## Not normal"
   ]
  },
  {
   "cell_type": "code",
   "execution_count": 39,
   "metadata": {},
   "outputs": [
    {
     "data": {
      "text/plain": [
       "(0.9465398788452148, 0.000494321109727025)"
      ]
     },
     "execution_count": 39,
     "metadata": {},
     "output_type": "execute_result"
    }
   ],
   "source": [
    "scipy.stats.shapiro(np.random.rand(100)) # rejecting null hypothesis bc samples are uniform"
   ]
  },
  {
   "cell_type": "code",
   "execution_count": 40,
   "metadata": {},
   "outputs": [
    {
     "data": {
      "text/plain": [
       "\u001b[0;31mSignature:\u001b[0m       \u001b[0mdist\u001b[0m\u001b[0;34m.\u001b[0m\u001b[0mt\u001b[0m\u001b[0;34m(\u001b[0m\u001b[0;34m*\u001b[0m\u001b[0margs\u001b[0m\u001b[0;34m,\u001b[0m \u001b[0;34m**\u001b[0m\u001b[0mkwds\u001b[0m\u001b[0;34m)\u001b[0m\u001b[0;34m\u001b[0m\u001b[0;34m\u001b[0m\u001b[0m\n",
       "\u001b[0;31mType:\u001b[0m            t_gen\n",
       "\u001b[0;31mString form:\u001b[0m     <scipy.stats._continuous_distns.t_gen object at 0x182135c198>\n",
       "\u001b[0;31mFile:\u001b[0m            ~/anaconda3/lib/python3.7/site-packages/scipy/stats/_continuous_distns.py\n",
       "\u001b[0;31mDocstring:\u001b[0m      \n",
       "A Student's t continuous random variable.\n",
       "\n",
       "As an instance of the `rv_continuous` class, `t` object inherits from it\n",
       "a collection of generic methods (see below for the full list),\n",
       "and completes them with details specific for this particular distribution.\n",
       "\n",
       "Methods\n",
       "-------\n",
       "rvs(df, loc=0, scale=1, size=1, random_state=None)\n",
       "    Random variates.\n",
       "pdf(x, df, loc=0, scale=1)\n",
       "    Probability density function.\n",
       "logpdf(x, df, loc=0, scale=1)\n",
       "    Log of the probability density function.\n",
       "cdf(x, df, loc=0, scale=1)\n",
       "    Cumulative distribution function.\n",
       "logcdf(x, df, loc=0, scale=1)\n",
       "    Log of the cumulative distribution function.\n",
       "sf(x, df, loc=0, scale=1)\n",
       "    Survival function  (also defined as ``1 - cdf``, but `sf` is sometimes more accurate).\n",
       "logsf(x, df, loc=0, scale=1)\n",
       "    Log of the survival function.\n",
       "ppf(q, df, loc=0, scale=1)\n",
       "    Percent point function (inverse of ``cdf`` --- percentiles).\n",
       "isf(q, df, loc=0, scale=1)\n",
       "    Inverse survival function (inverse of ``sf``).\n",
       "moment(n, df, loc=0, scale=1)\n",
       "    Non-central moment of order n\n",
       "stats(df, loc=0, scale=1, moments='mv')\n",
       "    Mean('m'), variance('v'), skew('s'), and/or kurtosis('k').\n",
       "entropy(df, loc=0, scale=1)\n",
       "    (Differential) entropy of the RV.\n",
       "fit(data, df, loc=0, scale=1)\n",
       "    Parameter estimates for generic data.\n",
       "expect(func, args=(df,), loc=0, scale=1, lb=None, ub=None, conditional=False, **kwds)\n",
       "    Expected value of a function (of one argument) with respect to the distribution.\n",
       "median(df, loc=0, scale=1)\n",
       "    Median of the distribution.\n",
       "mean(df, loc=0, scale=1)\n",
       "    Mean of the distribution.\n",
       "var(df, loc=0, scale=1)\n",
       "    Variance of the distribution.\n",
       "std(df, loc=0, scale=1)\n",
       "    Standard deviation of the distribution.\n",
       "interval(alpha, df, loc=0, scale=1)\n",
       "    Endpoints of the range that contains alpha percent of the distribution\n",
       "\n",
       "Notes\n",
       "-----\n",
       "The probability density function for `t` is:\n",
       "\n",
       ".. math::\n",
       "\n",
       "    f(x, \\nu) = \\frac{\\Gamma((\\nu+1)/2)}\n",
       "                    {\\sqrt{\\pi \\nu} \\Gamma(\\nu)}\n",
       "                (1+x^2/\\nu)^{-(\\nu+1)/2}\n",
       "\n",
       "where :math:`x` is a real number and the degrees of freedom parameter\n",
       ":math:`\\nu` (denoted ``df`` in the implementation) satisfies\n",
       ":math:`\\nu > 0`. :math:`\\Gamma` is the gamma function\n",
       "(`scipy.special.gamma`).\n",
       "\n",
       "The probability density above is defined in the \"standardized\" form. To shift\n",
       "and/or scale the distribution use the ``loc`` and ``scale`` parameters.\n",
       "Specifically, ``t.pdf(x, df, loc, scale)`` is identically\n",
       "equivalent to ``t.pdf(y, df) / scale`` with\n",
       "``y = (x - loc) / scale``.\n",
       "\n",
       "Examples\n",
       "--------\n",
       ">>> from scipy.stats import t\n",
       ">>> import matplotlib.pyplot as plt\n",
       ">>> fig, ax = plt.subplots(1, 1)\n",
       "\n",
       "Calculate a few first moments:\n",
       "\n",
       ">>> df = 2.74\n",
       ">>> mean, var, skew, kurt = t.stats(df, moments='mvsk')\n",
       "\n",
       "Display the probability density function (``pdf``):\n",
       "\n",
       ">>> x = np.linspace(t.ppf(0.01, df),\n",
       "...                 t.ppf(0.99, df), 100)\n",
       ">>> ax.plot(x, t.pdf(x, df),\n",
       "...        'r-', lw=5, alpha=0.6, label='t pdf')\n",
       "\n",
       "Alternatively, the distribution object can be called (as a function)\n",
       "to fix the shape, location and scale parameters. This returns a \"frozen\"\n",
       "RV object holding the given parameters fixed.\n",
       "\n",
       "Freeze the distribution and display the frozen ``pdf``:\n",
       "\n",
       ">>> rv = t(df)\n",
       ">>> ax.plot(x, rv.pdf(x), 'k-', lw=2, label='frozen pdf')\n",
       "\n",
       "Check accuracy of ``cdf`` and ``ppf``:\n",
       "\n",
       ">>> vals = t.ppf([0.001, 0.5, 0.999], df)\n",
       ">>> np.allclose([0.001, 0.5, 0.999], t.cdf(vals, df))\n",
       "True\n",
       "\n",
       "Generate random numbers:\n",
       "\n",
       ">>> r = t.rvs(df, size=1000)\n",
       "\n",
       "And compare the histogram:\n",
       "\n",
       ">>> ax.hist(r, density=True, histtype='stepfilled', alpha=0.2)\n",
       ">>> ax.legend(loc='best', frameon=False)\n",
       ">>> plt.show()\n",
       "\u001b[0;31mClass docstring:\u001b[0m\n",
       "A Student's t continuous random variable.\n",
       "\n",
       "%(before_notes)s\n",
       "\n",
       "Notes\n",
       "-----\n",
       "The probability density function for `t` is:\n",
       "\n",
       ".. math::\n",
       "\n",
       "    f(x, \\nu) = \\frac{\\Gamma((\\nu+1)/2)}\n",
       "                    {\\sqrt{\\pi \\nu} \\Gamma(\\nu)}\n",
       "                (1+x^2/\\nu)^{-(\\nu+1)/2}\n",
       "\n",
       "where :math:`x` is a real number and the degrees of freedom parameter\n",
       ":math:`\\nu` (denoted ``df`` in the implementation) satisfies\n",
       ":math:`\\nu > 0`. :math:`\\Gamma` is the gamma function\n",
       "(`scipy.special.gamma`).\n",
       "\n",
       "%(after_notes)s\n",
       "\n",
       "%(example)s\n",
       "\u001b[0;31mCall docstring:\u001b[0m \n",
       "Freeze the distribution for the given arguments.\n",
       "\n",
       "Parameters\n",
       "----------\n",
       "arg1, arg2, arg3,... : array_like\n",
       "    The shape parameter(s) for the distribution.  Should include all\n",
       "    the non-optional arguments, may include ``loc`` and ``scale``.\n",
       "\n",
       "Returns\n",
       "-------\n",
       "rv_frozen : rv_frozen instance\n",
       "    The frozen distribution.\n"
      ]
     },
     "metadata": {},
     "output_type": "display_data"
    }
   ],
   "source": [
    "dist.t?"
   ]
  },
  {
   "cell_type": "code",
   "execution_count": 41,
   "metadata": {},
   "outputs": [],
   "source": [
    "### this code esentially 'tilts' and 'shifts' the entire graph so that the regression line follows\n",
    "### zero, and the error bars maintain their distance from the regression line/model\n",
    "### the code also creates a set of all 'residuals,' or the distance of all the error bars.\n",
    "jeep_predicted_value = ((jeep_coeffs[0]) + ((jeep_coeffs[1] * jeep_miles)))\n",
    "jeep_true_value = jeep_price\n",
    "jeep_price_residual = jeep_true_value - jeep_predicted_value\n",
    "\n",
    "subaru_predicted_value = ((subaru_coeffs[0]) + ((subaru_coeffs[1] * subaru_miles)))\n",
    "subaru_true_value = subaru_price\n",
    "subaru_price_residual = subaru_true_value - subaru_predicted_value"
   ]
  },
  {
   "cell_type": "code",
   "execution_count": null,
   "metadata": {},
   "outputs": [],
   "source": []
  },
  {
   "cell_type": "code",
   "execution_count": 42,
   "metadata": {},
   "outputs": [],
   "source": []
  },
  {
   "cell_type": "code",
   "execution_count": 59,
   "metadata": {},
   "outputs": [
    {
     "data": {
      "text/plain": [
       "<matplotlib.collections.LineCollection at 0x1a21f236a0>"
      ]
     },
     "execution_count": 59,
     "metadata": {},
     "output_type": "execute_result"
    },
    {
     "data": {
      "image/png": "[encoded data removed]",
      "text/plain": [
       "<Figure size 432x288 with 1 Axes>"
      ]
     },
     "metadata": {
      "needs_background": "light"
     },
     "output_type": "display_data"
    }
   ],
   "source": [
    "plt.scatter(jeep_miles, jeep_price_residual, c=jeep_color, label='jeep')\n",
    "plt.vlines(jeep_miles, 0, jeep_price_residual, alpha = 0.5, color=jeep_color)"
   ]
  },
  {
   "cell_type": "code",
   "execution_count": 60,
   "metadata": {},
   "outputs": [
    {
     "data": {
      "text/plain": [
       "<matplotlib.collections.LineCollection at 0x1a21f98278>"
      ]
     },
     "execution_count": 60,
     "metadata": {},
     "output_type": "execute_result"
    },
    {
     "data": {
      "image/png": "[encoded data removed]",
      "text/plain": [
       "<Figure size 432x288 with 1 Axes>"
      ]
     },
     "metadata": {
      "needs_background": "light"
     },
     "output_type": "display_data"
    }
   ],
   "source": [
    "plt.scatter(subaru_miles, subaru_price_residual,c=subaru_color, label='subaru')\n",
    "plt.vlines(subaru_miles, 0, subaru_price_residual, alpha = 0.5, color=subaru_color)"
   ]
  },
  {
   "cell_type": "code",
   "execution_count": 42,
   "metadata": {},
   "outputs": [
    {
     "data": {
      "text/plain": [
       "Text(0.5, 1.0, 'visual check for heteroscedasticity')"
      ]
     },
     "execution_count": 42,
     "metadata": {},
     "output_type": "execute_result"
    },
    {
     "data": {
      "image/png": "[encoded data removed]",
      "text/plain": [
       "<Figure size 432x288 with 1 Axes>"
      ]
     },
     "metadata": {
      "needs_background": "light"
     },
     "output_type": "display_data"
    }
   ],
   "source": [
    "plt.hlines(0, 50000, 175000)\n",
    "plt.legend()\n",
    "plt.xlabel('odometer miles')\n",
    "plt.ylabel('len residual/error bar')\n",
    "plt.title('visual check for heteroscedasticity')"
   ]
  },
  {
   "cell_type": "code",
   "execution_count": 43,
   "metadata": {},
   "outputs": [
    {
     "data": {
      "text/plain": [
       "((0.9085631966590881, 0.013691679574549198),\n",
       " (0.9505169987678528, 0.17453503608703613))"
      ]
     },
     "execution_count": 43,
     "metadata": {},
     "output_type": "execute_result"
    }
   ],
   "source": [
    "scipy.stats.shapiro(subaru_price_residual), scipy.stats.shapiro(jeep_price_residual)"
   ]
  },
  {
   "cell_type": "markdown",
   "metadata": {},
   "source": [
    "According to the Wilk Shapiro test, whose null hypothesis states that the data could be normal, subarus reject the null (implying possible heteroscedasticity), while jeeps fail to reject the null (implying less factor-dependent variation)"
   ]
  },
  {
   "cell_type": "markdown",
   "metadata": {},
   "source": [
    "# Now, an attempt at exponential line fitting"
   ]
  },
  {
   "cell_type": "code",
   "execution_count": 44,
   "metadata": {},
   "outputs": [
    {
     "name": "stderr",
     "output_type": "stream",
     "text": [
      "/Users/djdebonis/anaconda3/lib/python3.7/site-packages/pandas/core/ops.py:1649: FutureWarning: elementwise comparison failed; returning scalar instead, but in the future will perform elementwise comparison\n",
      "  result = method(y)\n"
     ]
    },
    {
     "ename": "ValueError",
     "evalue": "The truth value of a Series is ambiguous. Use a.empty, a.bool(), a.item(), a.any() or a.all().",
     "output_type": "error",
     "traceback": [
      "\u001b[0;31m---------------------------------------------------------------------------\u001b[0m",
      "\u001b[0;31mValueError\u001b[0m                                Traceback (most recent call last)",
      "\u001b[0;32m<ipython-input-44-a796e39162fd>\u001b[0m in \u001b[0;36m<module>\u001b[0;34m\u001b[0m\n\u001b[1;32m      2\u001b[0m   \u001b[0;32mreturn\u001b[0m \u001b[0mp1\u001b[0m\u001b[0;34m*\u001b[0m\u001b[0mnp\u001b[0m\u001b[0;34m.\u001b[0m\u001b[0mlog\u001b[0m\u001b[0;34m(\u001b[0m\u001b[0mx\u001b[0m\u001b[0;34m)\u001b[0m\u001b[0;34m+\u001b[0m\u001b[0mp2\u001b[0m\u001b[0;34m\u001b[0m\u001b[0;34m\u001b[0m\u001b[0m\n\u001b[1;32m      3\u001b[0m \u001b[0;34m\u001b[0m\u001b[0m\n\u001b[0;32m----> 4\u001b[0;31m \u001b[0mpopt\u001b[0m\u001b[0;34m,\u001b[0m \u001b[0mpcov\u001b[0m \u001b[0;34m=\u001b[0m \u001b[0mscipy\u001b[0m\u001b[0;34m.\u001b[0m\u001b[0moptimize\u001b[0m\u001b[0;34m.\u001b[0m\u001b[0mleast_squares\u001b[0m\u001b[0;34m(\u001b[0m\u001b[0mexponential_regression\u001b[0m\u001b[0;34m,\u001b[0m \u001b[0msubaru_miles\u001b[0m\u001b[0;34m,\u001b[0m \u001b[0msubaru_price\u001b[0m\u001b[0;34m)\u001b[0m\u001b[0;34m\u001b[0m\u001b[0;34m\u001b[0m\u001b[0m\n\u001b[0m",
      "\u001b[0;32m~/anaconda3/lib/python3.7/site-packages/scipy/optimize/_lsq/least_squares.py\u001b[0m in \u001b[0;36mleast_squares\u001b[0;34m(fun, x0, jac, bounds, method, ftol, xtol, gtol, x_scale, loss, f_scale, diff_step, tr_solver, tr_options, jac_sparsity, max_nfev, verbose, args, kwargs)\u001b[0m\n\u001b[1;32m    740\u001b[0m         \u001b[0;32mraise\u001b[0m \u001b[0mValueError\u001b[0m\u001b[0;34m(\u001b[0m\u001b[0;34m\"`method` must be 'trf', 'dogbox' or 'lm'.\"\u001b[0m\u001b[0;34m)\u001b[0m\u001b[0;34m\u001b[0m\u001b[0;34m\u001b[0m\u001b[0m\n\u001b[1;32m    741\u001b[0m \u001b[0;34m\u001b[0m\u001b[0m\n\u001b[0;32m--> 742\u001b[0;31m     \u001b[0;32mif\u001b[0m \u001b[0mjac\u001b[0m \u001b[0;32mnot\u001b[0m \u001b[0;32min\u001b[0m \u001b[0;34m[\u001b[0m\u001b[0;34m'2-point'\u001b[0m\u001b[0;34m,\u001b[0m \u001b[0;34m'3-point'\u001b[0m\u001b[0;34m,\u001b[0m \u001b[0;34m'cs'\u001b[0m\u001b[0;34m]\u001b[0m \u001b[0;32mand\u001b[0m \u001b[0;32mnot\u001b[0m \u001b[0mcallable\u001b[0m\u001b[0;34m(\u001b[0m\u001b[0mjac\u001b[0m\u001b[0;34m)\u001b[0m\u001b[0;34m:\u001b[0m\u001b[0;34m\u001b[0m\u001b[0;34m\u001b[0m\u001b[0m\n\u001b[0m\u001b[1;32m    743\u001b[0m         raise ValueError(\"`jac` must be '2-point', '3-point', 'cs' or \"\n\u001b[1;32m    744\u001b[0m                          \"callable.\")\n",
      "\u001b[0;32m~/anaconda3/lib/python3.7/site-packages/pandas/core/generic.py\u001b[0m in \u001b[0;36m__nonzero__\u001b[0;34m(self)\u001b[0m\n\u001b[1;32m   1476\u001b[0m         raise ValueError(\"The truth value of a {0} is ambiguous. \"\n\u001b[1;32m   1477\u001b[0m                          \u001b[0;34m\"Use a.empty, a.bool(), a.item(), a.any() or a.all().\"\u001b[0m\u001b[0;34m\u001b[0m\u001b[0;34m\u001b[0m\u001b[0m\n\u001b[0;32m-> 1478\u001b[0;31m                          .format(self.__class__.__name__))\n\u001b[0m\u001b[1;32m   1479\u001b[0m \u001b[0;34m\u001b[0m\u001b[0m\n\u001b[1;32m   1480\u001b[0m     \u001b[0m__bool__\u001b[0m \u001b[0;34m=\u001b[0m \u001b[0m__nonzero__\u001b[0m\u001b[0;34m\u001b[0m\u001b[0;34m\u001b[0m\u001b[0m\n",
      "\u001b[0;31mValueError\u001b[0m: The truth value of a Series is ambiguous. Use a.empty, a.bool(), a.item(), a.any() or a.all()."
     ]
    }
   ],
   "source": [
    "def exponential_regression(x,p1,p2):\n",
    "  return p1*np.log(x)+p2\n",
    "\n",
    "popt, pcov = scipy.optimize.least_squares(exponential_regression, subaru_miles, subaru_price)"
   ]
  },
  {
   "cell_type": "code",
   "execution_count": 45,
   "metadata": {},
   "outputs": [
    {
     "ename": "NameError",
     "evalue": "name 'popt' is not defined",
     "output_type": "error",
     "traceback": [
      "\u001b[0;31m---------------------------------------------------------------------------\u001b[0m",
      "\u001b[0;31mNameError\u001b[0m                                 Traceback (most recent call last)",
      "\u001b[0;32m<ipython-input-45-a3de2d3a018f>\u001b[0m in \u001b[0;36m<module>\u001b[0;34m\u001b[0m\n\u001b[0;32m----> 1\u001b[0;31m \u001b[0mp1\u001b[0m \u001b[0;34m=\u001b[0m \u001b[0mpopt\u001b[0m\u001b[0;34m[\u001b[0m\u001b[0;36m0\u001b[0m\u001b[0;34m]\u001b[0m\u001b[0;34m\u001b[0m\u001b[0;34m\u001b[0m\u001b[0m\n\u001b[0m\u001b[1;32m      2\u001b[0m \u001b[0mp2\u001b[0m \u001b[0;34m=\u001b[0m \u001b[0mpopt\u001b[0m\u001b[0;34m[\u001b[0m\u001b[0;36m1\u001b[0m\u001b[0;34m]\u001b[0m\u001b[0;34m\u001b[0m\u001b[0;34m\u001b[0m\u001b[0m\n\u001b[1;32m      3\u001b[0m \u001b[0;34m\u001b[0m\u001b[0m\n\u001b[1;32m      4\u001b[0m \u001b[0;34m\u001b[0m\u001b[0m\n\u001b[1;32m      5\u001b[0m \u001b[0mplt\u001b[0m\u001b[0;34m.\u001b[0m\u001b[0mscatter\u001b[0m\u001b[0;34m(\u001b[0m\u001b[0msubaru_miles\u001b[0m\u001b[0;34m,\u001b[0m \u001b[0msubaru_price\u001b[0m\u001b[0;34m)\u001b[0m\u001b[0;34m\u001b[0m\u001b[0;34m\u001b[0m\u001b[0m\n",
      "\u001b[0;31mNameError\u001b[0m: name 'popt' is not defined"
     ]
    }
   ],
   "source": [
    "p1 = popt[0]\n",
    "p2 = popt[1]\n",
    "\n",
    "\n",
    "plt.scatter(subaru_miles, subaru_price)\n",
    "curvex=np.linspace(70000,175000, 1000)\n",
    "curvey=exponential_regression(curvex,p1,p2)\n",
    "plt.plot(curvex,curvey,'r', linewidth=3)"
   ]
  },
  {
   "cell_type": "code",
   "execution_count": 46,
   "metadata": {},
   "outputs": [
    {
     "ename": "NameError",
     "evalue": "name 'p1' is not defined",
     "output_type": "error",
     "traceback": [
      "\u001b[0;31m---------------------------------------------------------------------------\u001b[0m",
      "\u001b[0;31mNameError\u001b[0m                                 Traceback (most recent call last)",
      "\u001b[0;32m<ipython-input-46-5ba1b856e358>\u001b[0m in \u001b[0;36m<module>\u001b[0;34m\u001b[0m\n\u001b[0;32m----> 1\u001b[0;31m \u001b[0mprint\u001b[0m\u001b[0;34m(\u001b[0m\u001b[0mp1\u001b[0m\u001b[0;34m,\u001b[0m\u001b[0mp2\u001b[0m\u001b[0;34m)\u001b[0m\u001b[0;34m\u001b[0m\u001b[0;34m\u001b[0m\u001b[0m\n\u001b[0m",
      "\u001b[0;31mNameError\u001b[0m: name 'p1' is not defined"
     ]
    }
   ],
   "source": [
    "print(p1,p2)"
   ]
  },
  {
   "cell_type": "code",
   "execution_count": 47,
   "metadata": {},
   "outputs": [
    {
     "data": {
      "text/plain": [
       "\u001b[0;31mType:\u001b[0m        module\n",
       "\u001b[0;31mString form:\u001b[0m <module 'scipy.optimize' from '/Users/djdebonis/anaconda3/lib/python3.7/site-packages/scipy/optimize/__init__.py'>\n",
       "\u001b[0;31mFile:\u001b[0m        ~/anaconda3/lib/python3.7/site-packages/scipy/optimize/__init__.py\n",
       "\u001b[0;31mDocstring:\u001b[0m  \n",
       "=====================================================\n",
       "Optimization and Root Finding (:mod:`scipy.optimize`)\n",
       "=====================================================\n",
       "\n",
       ".. currentmodule:: scipy.optimize\n",
       "\n",
       "SciPy ``optimize`` provides functions for minimizing (or maximizing)\n",
       "objective functions, possibly subject to constraints. It includes\n",
       "solvers for nonlinear problems (with support for both local and global\n",
       "optimization algorithms), linear programing,  constrained\n",
       "and nonlinear least-squares, root finding and curve fitting.\n",
       "\n",
       "Common functions and objects, shared across different solvers, are:\n",
       "\n",
       ".. autosummary::\n",
       "   :toctree: generated/\n",
       "\n",
       "   show_options - Show specific options optimization solvers.\n",
       "   OptimizeResult - The optimization result returned by some optimizers.\n",
       "   OptimizeWarning - The optimization encountered problems.\n",
       "\n",
       "\n",
       "Optimization\n",
       "============\n",
       "\n",
       "Scalar Functions Optimization\n",
       "-----------------------------\n",
       "\n",
       ".. autosummary::\n",
       "   :toctree: generated/\n",
       "\n",
       "   minimize_scalar - Interface for minimizers of univariate functions\n",
       "\n",
       "The `minimize_scalar` function supports the following methods:\n",
       "\n",
       ".. toctree::\n",
       "\n",
       "   optimize.minimize_scalar-brent\n",
       "   optimize.minimize_scalar-bounded\n",
       "   optimize.minimize_scalar-golden\n",
       "\n",
       "Local (Multivariate) Optimization\n",
       "---------------------------------\n",
       "\n",
       ".. autosummary::\n",
       "   :toctree: generated/\n",
       "\n",
       "   minimize - Interface for minimizers of multivariate functions.\n",
       "\n",
       "The `minimize` function supports the following methods:\n",
       "\n",
       ".. toctree::\n",
       "\n",
       "   optimize.minimize-neldermead\n",
       "   optimize.minimize-powell\n",
       "   optimize.minimize-cg\n",
       "   optimize.minimize-bfgs\n",
       "   optimize.minimize-newtoncg\n",
       "   optimize.minimize-lbfgsb\n",
       "   optimize.minimize-tnc\n",
       "   optimize.minimize-cobyla\n",
       "   optimize.minimize-slsqp\n",
       "   optimize.minimize-trustconstr\n",
       "   optimize.minimize-dogleg\n",
       "   optimize.minimize-trustncg\n",
       "   optimize.minimize-trustkrylov\n",
       "   optimize.minimize-trustexact\n",
       "\n",
       "Constraints are passed to `minimize` function as a single object or\n",
       "as a list of objects from the following classes:\n",
       "\n",
       ".. autosummary::\n",
       "   :toctree: generated/\n",
       "\n",
       "   NonlinearConstraint - Class defining general nonlinear constraints.\n",
       "   LinearConstraint - Class defining general linear constraints.\n",
       "\n",
       "Simple bound constraints are handled separately and there is a special class\n",
       "for them:\n",
       "\n",
       ".. autosummary::\n",
       "   :toctree: generated/\n",
       "\n",
       "   Bounds - Bound constraints.\n",
       "\n",
       "Quasi-Newton strategies implementing `HessianUpdateStrategy`\n",
       "interface can be used to approximate the Hessian in `minimize`\n",
       "function (available only for the 'trust-constr' method). Available\n",
       "quasi-Newton methods implementing this interface are:\n",
       "\n",
       ".. autosummary::\n",
       "   :toctree: generated/\n",
       "\n",
       "   BFGS - Broyden-Fletcher-Goldfarb-Shanno (BFGS) Hessian update strategy.\n",
       "   SR1 - Symmetric-rank-1 Hessian update strategy.\n",
       "\n",
       "Global Optimization\n",
       "-------------------\n",
       "\n",
       ".. autosummary::\n",
       "   :toctree: generated/\n",
       "\n",
       "   basinhopping - Basinhopping stochastic optimizer.\n",
       "   brute - Brute force searching optimizer.\n",
       "   differential_evolution - stochastic minimization using differential evolution.\n",
       "\n",
       "   shgo - simplicial homology global optimisation\n",
       "   dual_annealing - Dual annealing stochastic optimizer.\n",
       "\n",
       "\n",
       "Least-squares and Curve Fitting\n",
       "===============================\n",
       "\n",
       "Nonlinear Least-Squares\n",
       "-----------------------\n",
       "\n",
       ".. autosummary::\n",
       "   :toctree: generated/\n",
       "\n",
       "   least_squares - Solve a nonlinear least-squares problem with bounds on the variables.\n",
       "\n",
       "Linear Least-Squares\n",
       "--------------------\n",
       "\n",
       ".. autosummary::\n",
       "   :toctree: generated/\n",
       "\n",
       "   nnls - Linear least-squares problem with non-negativity constraint.\n",
       "   lsq_linear - Linear least-squares problem with bound constraints.\n",
       "\n",
       "Curve Fitting\n",
       "-------------\n",
       "\n",
       ".. autosummary::\n",
       "   :toctree: generated/\n",
       "\n",
       "   curve_fit -- Fit curve to a set of points.\n",
       "\n",
       "Root finding\n",
       "============\n",
       "\n",
       "Scalar functions\n",
       "----------------\n",
       ".. autosummary::\n",
       "   :toctree: generated/\n",
       "\n",
       "   root_scalar - Unified interface for nonlinear solvers of scalar functions.\n",
       "   brentq - quadratic interpolation Brent method.\n",
       "   brenth - Brent method, modified by Harris with hyperbolic extrapolation.\n",
       "   ridder - Ridder's method.\n",
       "   bisect - Bisection method.\n",
       "   newton - Newton's method (also Secant and Halley's methods).\n",
       "   toms748 - Alefeld, Potra & Shi Algorithm 748\n",
       "   RootResults - The root finding result returned by some root finders.\n",
       "\n",
       "The `root_scalar` function supports the following methods:\n",
       "\n",
       ".. toctree::\n",
       "\n",
       "   optimize.root_scalar-brentq\n",
       "   optimize.root_scalar-brenth\n",
       "   optimize.root_scalar-bisect\n",
       "   optimize.root_scalar-ridder\n",
       "   optimize.root_scalar-newton\n",
       "   optimize.root_scalar-toms748\n",
       "   optimize.root_scalar-secant\n",
       "   optimize.root_scalar-halley\n",
       "\n",
       "\n",
       "\n",
       "The table below lists situations and appropriate methods, along with\n",
       "*asymptotic* convergence rates per iteration (and per function evaluation)\n",
       "for successful convergence to a simple root(*).\n",
       "Bisection is the slowest of them all, adding one bit of accuracy for each\n",
       "function evaluation, but is guaranteed to converge.\n",
       "The other bracketing methods all (eventually) increase the number of accurate\n",
       "bits by about 50% for every function evaluation.\n",
       "The derivative-based methods, all built on `newton`, can converge quite quickly\n",
       "if the initial value is close to the root.  They can also be applied to\n",
       "functions defined on (a subset of) the complex plane.\n",
       "\n",
       "+-------------+----------+----------+-----------+-------------+-------------+----------------+\n",
       "| Domain of f | Bracket? |    Derivatives?      | Solvers     |        Convergence           |\n",
       "+             +          +----------+-----------+             +-------------+----------------+\n",
       "|             |          | `fprime` | `fprime2` |             | Guaranteed? |  Rate(s)(*)    |\n",
       "+=============+==========+==========+===========+=============+=============+================+\n",
       "| `R`         | Yes      | N/A      | N/A       | - bisection | - Yes       | - 1 \"Linear\"   |\n",
       "|             |          |          |           | - brentq    | - Yes       | - >=1, <= 1.62 |\n",
       "|             |          |          |           | - brenth    | - Yes       | - >=1, <= 1.62 |\n",
       "|             |          |          |           | - ridder    | - Yes       | - 2.0 (1.41)   |\n",
       "|             |          |          |           | - toms748   | - Yes       | - 2.7 (1.65)   |\n",
       "+-------------+----------+----------+-----------+-------------+-------------+----------------+\n",
       "| `R` or `C`  | No       | No       | No        | secant      | No          | 1.62 (1.62)    |\n",
       "+-------------+----------+----------+-----------+-------------+-------------+----------------+\n",
       "| `R` or `C`  | No       | Yes      | No        | newton      | No          | 2.00 (1.41)    |\n",
       "+-------------+----------+----------+-----------+-------------+-------------+----------------+\n",
       "| `R` or `C`  | No       | Yes      | Yes       | halley      | No          | 3.00 (1.44)    |\n",
       "+-------------+----------+----------+-----------+-------------+-------------+----------------+\n",
       "\n",
       "\n",
       "Fixed point finding:\n",
       "\n",
       ".. autosummary::\n",
       "   :toctree: generated/\n",
       "\n",
       "   fixed_point - Single-variable fixed-point solver.\n",
       "\n",
       "Multidimensional\n",
       "----------------\n",
       "\n",
       ".. autosummary::\n",
       "   :toctree: generated/\n",
       "\n",
       "   root - Unified interface for nonlinear solvers of multivariate functions.\n",
       "\n",
       "The `root` function supports the following methods:\n",
       "\n",
       ".. toctree::\n",
       "\n",
       "   optimize.root-hybr\n",
       "   optimize.root-lm\n",
       "   optimize.root-broyden1\n",
       "   optimize.root-broyden2\n",
       "   optimize.root-anderson\n",
       "   optimize.root-linearmixing\n",
       "   optimize.root-diagbroyden\n",
       "   optimize.root-excitingmixing\n",
       "   optimize.root-krylov\n",
       "   optimize.root-dfsane\n",
       "\n",
       "Linear Programming\n",
       "==================\n",
       "\n",
       ".. autosummary::\n",
       "   :toctree: generated/\n",
       "\n",
       "   linprog -- Unified interface for minimizers of linear programming problems.\n",
       "\n",
       "The `linprog` function supports the following methods:\n",
       "\n",
       ".. toctree::\n",
       "\n",
       "   optimize.linprog-simplex\n",
       "   optimize.linprog-interior-point\n",
       "\n",
       "The simplex method supports callback functions, such as:\n",
       "\n",
       ".. autosummary::\n",
       "   :toctree: generated/\n",
       "\n",
       "   linprog_verbose_callback -- Sample callback function for linprog (simplex).\n",
       "\n",
       "Assignment problems:\n",
       "\n",
       ".. autosummary::\n",
       "   :toctree: generated/\n",
       "\n",
       "   linear_sum_assignment -- Solves the linear-sum assignment problem.\n",
       "\n",
       "Utilities\n",
       "=========\n",
       "\n",
       "Finite-Difference Approximation\n",
       "-------------------------------\n",
       "\n",
       ".. autosummary::\n",
       "   :toctree: generated/\n",
       "\n",
       "   approx_fprime - Approximate the gradient of a scalar function.\n",
       "   check_grad - Check the supplied derivative using finite differences.\n",
       "\n",
       "\n",
       "Line Search\n",
       "-----------\n",
       "\n",
       ".. autosummary::\n",
       "   :toctree: generated/\n",
       "\n",
       "   bracket - Bracket a minimum, given two starting points.\n",
       "   line_search - Return a step that satisfies the strong Wolfe conditions.\n",
       "\n",
       "Hessian Approximation\n",
       "---------------------\n",
       "\n",
       ".. autosummary::\n",
       "   :toctree: generated/\n",
       "\n",
       "   LbfgsInvHessProduct - Linear operator for L-BFGS approximate inverse Hessian.\n",
       "   HessianUpdateStrategy - Interface for implementing Hessian update strategies\n",
       "\n",
       "Benchmark Problems\n",
       "------------------\n",
       "\n",
       ".. autosummary::\n",
       "   :toctree: generated/\n",
       "\n",
       "   rosen - The Rosenbrock function.\n",
       "   rosen_der - The derivative of the Rosenbrock function.\n",
       "   rosen_hess - The Hessian matrix of the Rosenbrock function.\n",
       "   rosen_hess_prod - Product of the Rosenbrock Hessian with a vector.\n",
       "\n",
       "Legacy Functions\n",
       "================\n",
       "\n",
       "The functions below are not recommended for use in new scripts;\n",
       "all of these methods are accessible via a newer, more consistent\n",
       "interfaces, provided by the interfaces above.\n",
       "\n",
       "Optimization\n",
       "------------\n",
       "\n",
       "General-purpose multivariate methods:\n",
       "\n",
       ".. autosummary::\n",
       "   :toctree: generated/\n",
       "\n",
       "   fmin - Nelder-Mead Simplex algorithm.\n",
       "   fmin_powell - Powell's (modified) level set method.\n",
       "   fmin_cg - Non-linear (Polak-Ribiere) conjugate gradient algorithm.\n",
       "   fmin_bfgs - Quasi-Newton method (Broydon-Fletcher-Goldfarb-Shanno).\n",
       "   fmin_ncg - Line-search Newton Conjugate Gradient.\n",
       "\n",
       "Constrained multivariate methods:\n",
       "\n",
       ".. autosummary::\n",
       "   :toctree: generated/\n",
       "\n",
       "   fmin_l_bfgs_b - Zhu, Byrd, and Nocedal's constrained optimizer.\n",
       "   fmin_tnc - Truncated Newton code.\n",
       "   fmin_cobyla - Constrained optimization by linear approximation.\n",
       "   fmin_slsqp - Minimization using sequential least-squares programming.\n",
       "   differential_evolution - stochastic minimization using differential evolution.\n",
       "\n",
       "Univariate (scalar) minimization methods:\n",
       "\n",
       ".. autosummary::\n",
       "   :toctree: generated/\n",
       "\n",
       "   fminbound - Bounded minimization of a scalar function.\n",
       "   brent - 1-D function minimization using Brent method.\n",
       "   golden - 1-D function minimization using Golden Section method.\n",
       "\n",
       "Least-Squares\n",
       "-------------\n",
       "\n",
       ".. autosummary::\n",
       "   :toctree: generated/\n",
       "\n",
       "   leastsq - Minimize the sum of squares of M equations in N unknowns.\n",
       "\n",
       "Root Finding\n",
       "------------\n",
       "\n",
       "General nonlinear solvers:\n",
       "\n",
       ".. autosummary::\n",
       "   :toctree: generated/\n",
       "\n",
       "   fsolve - Non-linear multi-variable equation solver.\n",
       "   broyden1 - Broyden's first method.\n",
       "   broyden2 - Broyden's second method.\n",
       "\n",
       "Large-scale nonlinear solvers:\n",
       "\n",
       ".. autosummary::\n",
       "   :toctree: generated/\n",
       "\n",
       "   newton_krylov\n",
       "   anderson\n",
       "\n",
       "Simple iteration solvers:\n",
       "\n",
       ".. autosummary::\n",
       "   :toctree: generated/\n",
       "\n",
       "   excitingmixing\n",
       "   linearmixing\n",
       "   diagbroyden\n",
       "\n",
       ":mod:`Additional information on the nonlinear solvers <scipy.optimize.nonlin>`\n"
      ]
     },
     "metadata": {},
     "output_type": "display_data"
    }
   ],
   "source": [
    "\n",
    "scipy.optimize?"
   ]
  },
  {
   "cell_type": "code",
   "execution_count": null,
   "metadata": {},
   "outputs": [],
   "source": []
  },
  {
   "cell_type": "code",
   "execution_count": null,
   "metadata": {},
   "outputs": [],
   "source": []
  },
  {
   "cell_type": "code",
   "execution_count": null,
   "metadata": {},
   "outputs": [],
   "source": []
  },
  {
   "cell_type": "code",
   "execution_count": null,
   "metadata": {},
   "outputs": [],
   "source": []
  }
 ],
 "metadata": {
  "kernelspec": {
   "display_name": "Python 3",
   "language": "python",
   "name": "python3"
  },
  "language_info": {
   "codemirror_mode": {
    "name": "ipython",
    "version": 3
   },
   "file_extension": ".py",
   "mimetype": "text/x-python",
   "name": "python",
   "nbconvert_exporter": "python",
   "pygments_lexer": "ipython3",
   "version": "3.7.3"
  }
 },
 "nbformat": 4,
 "nbformat_minor": 4
}
